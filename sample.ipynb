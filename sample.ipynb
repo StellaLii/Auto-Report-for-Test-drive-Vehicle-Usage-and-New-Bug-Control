{
 "cells": [
  {
   "cell_type": "markdown",
   "metadata": {},
   "source": [
    "\n",
    "# 车辆使用效率"
   ]
  },
  {
   "cell_type": "code",
   "execution_count": 1,
   "metadata": {},
   "outputs": [],
   "source": [
    "import os\n",
    "import sys\n",
    "sys.path.append(os.path.realpath('.'))\n",
    "sys.path.append(os.path.realpath('..'))"
   ]
  },
  {
   "cell_type": "code",
   "execution_count": 2,
   "id": "73f11da6",
   "metadata": {},
   "outputs": [],
   "source": [
    "from auto_report import AutoReport\n",
    "import pandas as pd\n",
    "import markdown\n",
    "import datetime\n",
    "from IPython.display import display, HTML, Markdown\n",
    "date = pd.Timestamp.today()- pd.Timedelta(\"1 days\") \n",
    "# date = pd.Timestamp('2022-5-14') \n",
    "location = \"shenzhen\"\n",
    "ar = AutoReport()"
   ]
  },
  {
   "cell_type": "code",
   "execution_count": 3,
   "metadata": {},
   "outputs": [
    {
     "data": {
      "text/markdown": [
       "2022-08-01"
      ],
      "text/plain": [
       "<IPython.core.display.Markdown object>"
      ]
     },
     "metadata": {},
     "output_type": "display_data"
    }
   ],
   "source": [
    "# print(date.strftime('%Y-%m-%d'))\n",
    "display(Markdown(date.strftime('%Y-%m-%d')))"
   ]
  },
  {
   "cell_type": "markdown",
   "metadata": {},
   "source": [
    "# 一、车辆使用情况\n",
    "## Part. 1 运营车辆\n",
    "### 运营数据\n",
    "运营时间：工作日6小时，周末6.5小时"
   ]
  },
  {
   "cell_type": "code",
   "execution_count": 4,
   "metadata": {},
   "outputs": [
    {
     "data": {
      "text/html": [
       "<table border=\"1\" class=\"dataframe\">\n",
       "  <thead>\n",
       "    <tr style=\"text-align: right;\">\n",
       "      <th></th>\n",
       "      <th>Car_ID</th>\n",
       "      <th>城市</th>\n",
       "      <th>日期</th>\n",
       "      <th>车辆在线时长（H）</th>\n",
       "      <th>车辆上线率（百分比）</th>\n",
       "      <th>接管次数</th>\n",
       "      <th>运营里程（KM）</th>\n",
       "      <th>订单里程（KM）</th>\n",
       "      <th>完成订单数</th>\n",
       "    </tr>\n",
       "  </thead>\n",
       "  <tbody>\n",
       "    <tr>\n",
       "      <th>0</th>\n",
       "      <td>YR_ALX_1</td>\n",
       "      <td>shenzhen</td>\n",
       "      <td>2022-08-01</td>\n",
       "      <td>5.31</td>\n",
       "      <td>88.50</td>\n",
       "      <td>71.0</td>\n",
       "      <td>55.0</td>\n",
       "      <td>18.8</td>\n",
       "      <td>3.0</td>\n",
       "    </tr>\n",
       "    <tr>\n",
       "      <th>1</th>\n",
       "      <td>YR_ALX_3</td>\n",
       "      <td>shenzhen</td>\n",
       "      <td>2022-08-01</td>\n",
       "      <td>3.60</td>\n",
       "      <td>60.00</td>\n",
       "      <td>19.0</td>\n",
       "      <td>9.0</td>\n",
       "      <td>2.42</td>\n",
       "      <td>2.0</td>\n",
       "    </tr>\n",
       "    <tr>\n",
       "      <th>2</th>\n",
       "      <td>YR_ALX_5</td>\n",
       "      <td>shenzhen</td>\n",
       "      <td>2022-08-01</td>\n",
       "      <td>4.67</td>\n",
       "      <td>77.83</td>\n",
       "      <td>15.0</td>\n",
       "      <td>86.0</td>\n",
       "      <td>11.05</td>\n",
       "      <td>3.0</td>\n",
       "    </tr>\n",
       "    <tr>\n",
       "      <th>3</th>\n",
       "      <td>YR_ALX_6</td>\n",
       "      <td>shenzhen</td>\n",
       "      <td>2022-08-01</td>\n",
       "      <td>5.25</td>\n",
       "      <td>87.50</td>\n",
       "      <td>11.0</td>\n",
       "      <td>53.0</td>\n",
       "      <td>17.1</td>\n",
       "      <td>5.0</td>\n",
       "    </tr>\n",
       "    <tr>\n",
       "      <th>4</th>\n",
       "      <td>YR_ALX_7</td>\n",
       "      <td>shenzhen</td>\n",
       "      <td>2022-08-01</td>\n",
       "      <td>4.31</td>\n",
       "      <td>71.83</td>\n",
       "      <td>81.0</td>\n",
       "      <td>80.0</td>\n",
       "      <td>40.65</td>\n",
       "      <td>7.0</td>\n",
       "    </tr>\n",
       "    <tr>\n",
       "      <th>5</th>\n",
       "      <td>YR_MKZ_2</td>\n",
       "      <td>shenzhen</td>\n",
       "      <td>2022-08-01</td>\n",
       "      <td>4.51</td>\n",
       "      <td>75.17</td>\n",
       "      <td>105.0</td>\n",
       "      <td>76.0</td>\n",
       "      <td>40.05</td>\n",
       "      <td>8.0</td>\n",
       "    </tr>\n",
       "    <tr>\n",
       "      <th>6</th>\n",
       "      <td>YR_MKZ_3</td>\n",
       "      <td>shenzhen</td>\n",
       "      <td>2022-08-01</td>\n",
       "      <td>4.73</td>\n",
       "      <td>78.83</td>\n",
       "      <td>72.0</td>\n",
       "      <td>66.0</td>\n",
       "      <td>11.36</td>\n",
       "      <td>4.0</td>\n",
       "    </tr>\n",
       "    <tr>\n",
       "      <th>7</th>\n",
       "      <td>YR_MKZ_5</td>\n",
       "      <td>shenzhen</td>\n",
       "      <td>2022-08-01</td>\n",
       "      <td>0.00</td>\n",
       "      <td>0.00</td>\n",
       "      <td>21.0</td>\n",
       "      <td>9.0</td>\n",
       "      <td>0</td>\n",
       "      <td>0.0</td>\n",
       "    </tr>\n",
       "    <tr>\n",
       "      <th>8</th>\n",
       "      <td>YR_ALX_10</td>\n",
       "      <td>shenzhen</td>\n",
       "      <td>2022-08-01</td>\n",
       "      <td>5.65</td>\n",
       "      <td>94.17</td>\n",
       "      <td>36.0</td>\n",
       "      <td>61.0</td>\n",
       "      <td>22.22</td>\n",
       "      <td>5.0</td>\n",
       "    </tr>\n",
       "    <tr>\n",
       "      <th>9</th>\n",
       "      <td>YR_MAR_19</td>\n",
       "      <td>shenzhen</td>\n",
       "      <td>2022-08-01</td>\n",
       "      <td>4.82</td>\n",
       "      <td>80.33</td>\n",
       "      <td>36.0</td>\n",
       "      <td>61.0</td>\n",
       "      <td>15.72</td>\n",
       "      <td>7.0</td>\n",
       "    </tr>\n",
       "    <tr>\n",
       "      <th>10</th>\n",
       "      <td>YR_MKZ_10</td>\n",
       "      <td>shenzhen</td>\n",
       "      <td>2022-08-01</td>\n",
       "      <td>5.33</td>\n",
       "      <td>88.83</td>\n",
       "      <td>51.0</td>\n",
       "      <td>70.0</td>\n",
       "      <td>12.04</td>\n",
       "      <td>6.0</td>\n",
       "    </tr>\n",
       "    <tr>\n",
       "      <th>11</th>\n",
       "      <td>YR_MKZ_11</td>\n",
       "      <td>shenzhen</td>\n",
       "      <td>2022-08-01</td>\n",
       "      <td>2.46</td>\n",
       "      <td>41.00</td>\n",
       "      <td>52.0</td>\n",
       "      <td>48.0</td>\n",
       "      <td>10.79</td>\n",
       "      <td>2.0</td>\n",
       "    </tr>\n",
       "    <tr>\n",
       "      <th>12</th>\n",
       "      <td>YR_MKZ_12</td>\n",
       "      <td>shenzhen</td>\n",
       "      <td>2022-08-01</td>\n",
       "      <td>3.66</td>\n",
       "      <td>61.00</td>\n",
       "      <td>71.0</td>\n",
       "      <td>28.0</td>\n",
       "      <td>14.78</td>\n",
       "      <td>5.0</td>\n",
       "    </tr>\n",
       "  </tbody>\n",
       "</table>"
      ],
      "text/plain": [
       "<IPython.core.display.HTML object>"
      ]
     },
     "metadata": {},
     "output_type": "display_data"
    }
   ],
   "source": [
    "display(HTML(ar.part_1a(date).to_html()))"
   ]
  },
  {
   "cell_type": "markdown",
   "metadata": {
    "tags": []
   },
   "source": [
    "### 运营数据统计（日）"
   ]
  },
  {
   "cell_type": "code",
   "execution_count": 5,
   "metadata": {},
   "outputs": [
    {
     "data": {
      "text/html": [
       "<table border=\"1\" class=\"dataframe\">\n",
       "  <thead>\n",
       "    <tr style=\"text-align: right;\">\n",
       "      <th></th>\n",
       "      <th>日期</th>\n",
       "      <th>运营车辆总数</th>\n",
       "      <th>车辆总上线时间（H）</th>\n",
       "      <th>平均单车上线时间（H）</th>\n",
       "      <th>平均在线率（百分比）</th>\n",
       "      <th>车辆总接管次数</th>\n",
       "      <th>运营总里程</th>\n",
       "      <th>订单总里程</th>\n",
       "    </tr>\n",
       "  </thead>\n",
       "  <tbody>\n",
       "    <tr>\n",
       "      <th>1</th>\n",
       "      <td>2022-07-24</td>\n",
       "      <td>10</td>\n",
       "      <td>50.24</td>\n",
       "      <td>5.02</td>\n",
       "      <td>77.29</td>\n",
       "      <td>639.0</td>\n",
       "      <td>1005.0</td>\n",
       "      <td>53.57</td>\n",
       "    </tr>\n",
       "    <tr>\n",
       "      <th>0</th>\n",
       "      <td>2022-08-01</td>\n",
       "      <td>13</td>\n",
       "      <td>54.30</td>\n",
       "      <td>4.18</td>\n",
       "      <td>69.62</td>\n",
       "      <td>641.0</td>\n",
       "      <td>702.0</td>\n",
       "      <td>216.98</td>\n",
       "    </tr>\n",
       "  </tbody>\n",
       "</table>"
      ],
      "text/plain": [
       "<IPython.core.display.HTML object>"
      ]
     },
     "metadata": {},
     "output_type": "display_data"
    }
   ],
   "source": [
    "display(HTML(ar.part_1b().to_html()))"
   ]
  },
  {
   "cell_type": "code",
   "execution_count": 6,
   "metadata": {},
   "outputs": [],
   "source": [
    "# print(ar.part_1c(date))"
   ]
  },
  {
   "cell_type": "markdown",
   "metadata": {},
   "source": [
    "## Part. 2 测试车辆\n",
    "### 测试数据"
   ]
  },
  {
   "cell_type": "code",
   "execution_count": 7,
   "metadata": {},
   "outputs": [
    {
     "data": {
      "text/markdown": [
       "|    | Task_Type   | OT                                                  |   Task_Id | 日期       |   数量 | Car_ID    |   实际测试时长（H） |   总里程（KM） |\n",
       "|---:|:------------|:----------------------------------------------------|----------:|:-----------|-------:|:----------|--------------------:|---------------:|\n",
       "|  0 | 全无人测试  | [None](https://jira.deeproute.ai/browse/None)       |      3197 | 2022-08-01 |      1 | YR_ALX_1  |                0.18 |              0 |\n",
       "|  1 | 测试        | [None](https://jira.deeproute.ai/browse/None)       |      3253 | 2022-08-01 |      1 | YR_MKZ_6  |                0.05 |              0 |\n",
       "|  2 | 模块测试    | [None](https://jira.deeproute.ai/browse/None)       |      3276 | 2022-08-01 |      1 | YR_MAR_14 |                0.08 |              0 |\n",
       "|  3 | 模块测试    | [OT-2896](https://jira.deeproute.ai/browse/OT-2896) |      6917 | 2022-08-01 |      1 | YR_MAR_24 |                1.2  |              0 |\n",
       "|  4 | 模块测试    | [OT-2828](https://jira.deeproute.ai/browse/OT-2828) |      6918 | 2022-08-01 |      1 | YR_MAR_24 |                2.25 |             35 |\n",
       "|  5 | 项目测试    | [OT-2900](https://jira.deeproute.ai/browse/OT-2900) |      6924 | 2022-08-01 |      1 | YR_MAR_14 |                4.13 |              0 |\n",
       "|  6 | 项目测试    | [](https://jira.deeproute.ai/browse/)               |      6928 | 2022-08-01 |      1 | YR_MKZ_6  |                1.57 |             21 |\n",
       "|  7 | 项目测试    | [OT-2953](https://jira.deeproute.ai/browse/OT-2953) |      6935 | 2022-08-01 |      1 | YR_MKZ_8  |                0.17 |              2 |\n",
       "|  8 | 项目测试    | [OT-2953](https://jira.deeproute.ai/browse/OT-2953) |      6940 | 2022-08-01 |      1 | YR_MKZ_8  |                0.56 |              4 |"
      ],
      "text/plain": [
       "<IPython.core.display.Markdown object>"
      ]
     },
     "metadata": {},
     "output_type": "display_data"
    }
   ],
   "source": [
    "pd.set_option('mode.chained_assignment', None)\n",
    "result = ar.part_2a(date)\n",
    "link_func = lambda ot: '[%s](https://jira.deeproute.ai/browse/%s)'%(ot,ot)\n",
    "result['OT'] = result['OT'].apply(link_func)\n",
    "display(Markdown(result.to_markdown()))\n",
    "# display(HTML(ar.part_2a(date).to_html()))"
   ]
  },
  {
   "cell_type": "markdown",
   "metadata": {},
   "source": [
    "### 测试数据统计（日）"
   ]
  },
  {
   "cell_type": "code",
   "execution_count": 8,
   "metadata": {},
   "outputs": [
    {
     "data": {
      "text/html": [
       "<table border=\"1\" class=\"dataframe\">\n",
       "  <thead>\n",
       "    <tr style=\"text-align: right;\">\n",
       "      <th></th>\n",
       "      <th>日期</th>\n",
       "      <th>Task_Type</th>\n",
       "      <th>数量</th>\n",
       "      <th>Car_ID</th>\n",
       "      <th>Task_Id</th>\n",
       "      <th>OT</th>\n",
       "      <th>总时间（H）</th>\n",
       "    </tr>\n",
       "  </thead>\n",
       "  <tbody>\n",
       "    <tr>\n",
       "      <th>0</th>\n",
       "      <td>2022-08-01</td>\n",
       "      <td>建图</td>\n",
       "      <td>1</td>\n",
       "      <td>YR_ALX_2</td>\n",
       "      <td>3273</td>\n",
       "      <td>None</td>\n",
       "      <td>0.32</td>\n",
       "    </tr>\n",
       "    <tr>\n",
       "      <th>1</th>\n",
       "      <td>2022-08-01</td>\n",
       "      <td>建图</td>\n",
       "      <td>1</td>\n",
       "      <td>YR_MKZ_7</td>\n",
       "      <td>6762</td>\n",
       "      <td>None</td>\n",
       "      <td>0.04</td>\n",
       "    </tr>\n",
       "    <tr>\n",
       "      <th>2</th>\n",
       "      <td>2022-08-01</td>\n",
       "      <td>建图</td>\n",
       "      <td>1</td>\n",
       "      <td>YR_MKZ_7</td>\n",
       "      <td>6763</td>\n",
       "      <td>None</td>\n",
       "      <td>0.41</td>\n",
       "    </tr>\n",
       "    <tr>\n",
       "      <th>3</th>\n",
       "      <td>2022-08-01</td>\n",
       "      <td>建图</td>\n",
       "      <td>1</td>\n",
       "      <td>YR_MKZ_6</td>\n",
       "      <td>6927</td>\n",
       "      <td>None</td>\n",
       "      <td>0.82</td>\n",
       "    </tr>\n",
       "    <tr>\n",
       "      <th>4</th>\n",
       "      <td>2022-08-01</td>\n",
       "      <td>建图</td>\n",
       "      <td>1</td>\n",
       "      <td>YR_MKZ_7</td>\n",
       "      <td>6939</td>\n",
       "      <td>None</td>\n",
       "      <td>0.96</td>\n",
       "    </tr>\n",
       "    <tr>\n",
       "      <th>5</th>\n",
       "      <td>2022-08-01</td>\n",
       "      <td>建图</td>\n",
       "      <td>1</td>\n",
       "      <td>YR_MKZ_6</td>\n",
       "      <td>6946</td>\n",
       "      <td>None</td>\n",
       "      <td>0.93</td>\n",
       "    </tr>\n",
       "    <tr>\n",
       "      <th>6</th>\n",
       "      <td>2022-08-01</td>\n",
       "      <td>建图</td>\n",
       "      <td>1</td>\n",
       "      <td>YR_MKZ_6</td>\n",
       "      <td>6947</td>\n",
       "      <td>None</td>\n",
       "      <td>2.39</td>\n",
       "    </tr>\n",
       "  </tbody>\n",
       "</table>"
      ],
      "text/plain": [
       "<IPython.core.display.HTML object>"
      ]
     },
     "metadata": {},
     "output_type": "display_data"
    }
   ],
   "source": [
    "display(HTML(ar.part_2b(date).to_html()))"
   ]
  },
  {
   "cell_type": "code",
   "execution_count": 9,
   "metadata": {},
   "outputs": [
    {
     "data": {
      "text/html": [
       "<table border=\"1\" class=\"dataframe\">\n",
       "  <thead>\n",
       "    <tr style=\"text-align: right;\">\n",
       "      <th></th>\n",
       "      <th>日期</th>\n",
       "      <th>Car_ID</th>\n",
       "      <th>空闲时长（H）</th>\n",
       "      <th>闲置率（百分百）</th>\n",
       "    </tr>\n",
       "  </thead>\n",
       "  <tbody>\n",
       "  </tbody>\n",
       "</table>"
      ],
      "text/plain": [
       "<IPython.core.display.HTML object>"
      ]
     },
     "metadata": {},
     "output_type": "display_data"
    }
   ],
   "source": [
    "display(HTML(ar.part_2c(date).to_html()))"
   ]
  },
  {
   "cell_type": "markdown",
   "id": "53f592e0",
   "metadata": {},
   "source": [
    "### Part. 3 Demo数据"
   ]
  },
  {
   "cell_type": "markdown",
   "id": "160d306e",
   "metadata": {},
   "source": [
    "### Part. 4 异常记录"
   ]
  },
  {
   "cell_type": "code",
   "execution_count": 10,
   "id": "8dfb8a07",
   "metadata": {},
   "outputs": [
    {
     "data": {
      "text/html": [
       "<table border=\"1\" class=\"dataframe\">\n",
       "  <thead>\n",
       "    <tr style=\"text-align: right;\">\n",
       "      <th></th>\n",
       "      <th>Task_Id</th>\n",
       "      <th>Task_Type</th>\n",
       "      <th>Trip_ID</th>\n",
       "      <th>Car_ID</th>\n",
       "      <th>城市</th>\n",
       "      <th>日期</th>\n",
       "      <th>开始时刻</th>\n",
       "      <th>结束时刻</th>\n",
       "      <th>行程时间（H）</th>\n",
       "      <th>Trip里程（KM）</th>\n",
       "      <th>数据状态</th>\n",
       "    </tr>\n",
       "  </thead>\n",
       "  <tbody>\n",
       "    <tr>\n",
       "      <th>0</th>\n",
       "      <td>6881</td>\n",
       "      <td>运营</td>\n",
       "      <td>234237</td>\n",
       "      <td>YR_MKZ_3</td>\n",
       "      <td>shenzhen</td>\n",
       "      <td>2022-08-01</td>\n",
       "      <td>08:58:14</td>\n",
       "      <td>09:01:16</td>\n",
       "      <td>0.05</td>\n",
       "      <td>0.0</td>\n",
       "      <td>DataReady</td>\n",
       "    </tr>\n",
       "    <tr>\n",
       "      <th>1</th>\n",
       "      <td>6922</td>\n",
       "      <td>全无人收发车专用</td>\n",
       "      <td>234241</td>\n",
       "      <td>YR_MKZ_8</td>\n",
       "      <td>shenzhen</td>\n",
       "      <td>2022-08-01</td>\n",
       "      <td>09:28:46</td>\n",
       "      <td>09:30:34</td>\n",
       "      <td>0.03</td>\n",
       "      <td>0.0</td>\n",
       "      <td>DataParsing</td>\n",
       "    </tr>\n",
       "    <tr>\n",
       "      <th>2</th>\n",
       "      <td>6881</td>\n",
       "      <td>运营</td>\n",
       "      <td>234249</td>\n",
       "      <td>YR_ALX_3</td>\n",
       "      <td>shenzhen</td>\n",
       "      <td>2022-08-01</td>\n",
       "      <td>09:53:18</td>\n",
       "      <td>09:53:25</td>\n",
       "      <td>0.00</td>\n",
       "      <td>0.0</td>\n",
       "      <td>DataReady</td>\n",
       "    </tr>\n",
       "    <tr>\n",
       "      <th>3</th>\n",
       "      <td>6881</td>\n",
       "      <td>运营</td>\n",
       "      <td>234250</td>\n",
       "      <td>YR_ALX_3</td>\n",
       "      <td>shenzhen</td>\n",
       "      <td>2022-08-01</td>\n",
       "      <td>09:55:44</td>\n",
       "      <td>09:56:06</td>\n",
       "      <td>0.01</td>\n",
       "      <td>0.0</td>\n",
       "      <td>DataReady</td>\n",
       "    </tr>\n",
       "    <tr>\n",
       "      <th>4</th>\n",
       "      <td>6922</td>\n",
       "      <td>全无人收发车专用</td>\n",
       "      <td>234251</td>\n",
       "      <td>YR_MKZ_8</td>\n",
       "      <td>shenzhen</td>\n",
       "      <td>2022-08-01</td>\n",
       "      <td>09:55:52</td>\n",
       "      <td>09:59:44</td>\n",
       "      <td>0.06</td>\n",
       "      <td>0.0</td>\n",
       "      <td>DataReady</td>\n",
       "    </tr>\n",
       "    <tr>\n",
       "      <th>5</th>\n",
       "      <td>6881</td>\n",
       "      <td>运营</td>\n",
       "      <td>234253</td>\n",
       "      <td>YR_MKZ_3</td>\n",
       "      <td>shenzhen</td>\n",
       "      <td>2022-08-01</td>\n",
       "      <td>10:01:32</td>\n",
       "      <td>10:02:22</td>\n",
       "      <td>0.01</td>\n",
       "      <td>0.0</td>\n",
       "      <td>DataReady</td>\n",
       "    </tr>\n",
       "    <tr>\n",
       "      <th>6</th>\n",
       "      <td>6881</td>\n",
       "      <td>运营</td>\n",
       "      <td>234254</td>\n",
       "      <td>YR_MKZ_3</td>\n",
       "      <td>shenzhen</td>\n",
       "      <td>2022-08-01</td>\n",
       "      <td>10:02:37</td>\n",
       "      <td>10:03:13</td>\n",
       "      <td>0.01</td>\n",
       "      <td>0.0</td>\n",
       "      <td>DataReady</td>\n",
       "    </tr>\n",
       "    <tr>\n",
       "      <th>7</th>\n",
       "      <td>6881</td>\n",
       "      <td>运营</td>\n",
       "      <td>234256</td>\n",
       "      <td>YR_ALX_3</td>\n",
       "      <td>shenzhen</td>\n",
       "      <td>2022-08-01</td>\n",
       "      <td>10:05:47</td>\n",
       "      <td>10:05:54</td>\n",
       "      <td>0.00</td>\n",
       "      <td>0.0</td>\n",
       "      <td>DataReady</td>\n",
       "    </tr>\n",
       "    <tr>\n",
       "      <th>8</th>\n",
       "      <td>6881</td>\n",
       "      <td>运营</td>\n",
       "      <td>234258</td>\n",
       "      <td>YR_ALX_3</td>\n",
       "      <td>shenzhen</td>\n",
       "      <td>2022-08-01</td>\n",
       "      <td>10:07:43</td>\n",
       "      <td>10:08:15</td>\n",
       "      <td>0.01</td>\n",
       "      <td>0.0</td>\n",
       "      <td>DataReady</td>\n",
       "    </tr>\n",
       "    <tr>\n",
       "      <th>9</th>\n",
       "      <td>6881</td>\n",
       "      <td>运营</td>\n",
       "      <td>234259</td>\n",
       "      <td>YR_ALX_3</td>\n",
       "      <td>shenzhen</td>\n",
       "      <td>2022-08-01</td>\n",
       "      <td>10:09:18</td>\n",
       "      <td>10:09:36</td>\n",
       "      <td>0.00</td>\n",
       "      <td>0.0</td>\n",
       "      <td>DataReady</td>\n",
       "    </tr>\n",
       "    <tr>\n",
       "      <th>10</th>\n",
       "      <td>6881</td>\n",
       "      <td>运营</td>\n",
       "      <td>234260</td>\n",
       "      <td>YR_ALX_3</td>\n",
       "      <td>shenzhen</td>\n",
       "      <td>2022-08-01</td>\n",
       "      <td>10:10:25</td>\n",
       "      <td>10:14:15</td>\n",
       "      <td>0.06</td>\n",
       "      <td>0.0</td>\n",
       "      <td>DataReady</td>\n",
       "    </tr>\n",
       "    <tr>\n",
       "      <th>11</th>\n",
       "      <td>6922</td>\n",
       "      <td>全无人收发车专用</td>\n",
       "      <td>234261</td>\n",
       "      <td>YR_MKZ_8</td>\n",
       "      <td>shenzhen</td>\n",
       "      <td>2022-08-01</td>\n",
       "      <td>10:13:25</td>\n",
       "      <td>10:16:35</td>\n",
       "      <td>0.05</td>\n",
       "      <td>0.0</td>\n",
       "      <td>DataReady</td>\n",
       "    </tr>\n",
       "    <tr>\n",
       "      <th>12</th>\n",
       "      <td>6922</td>\n",
       "      <td>全无人收发车专用</td>\n",
       "      <td>234266</td>\n",
       "      <td>YR_MKZ_8</td>\n",
       "      <td>shenzhen</td>\n",
       "      <td>2022-08-01</td>\n",
       "      <td>10:33:45</td>\n",
       "      <td>10:36:23</td>\n",
       "      <td>0.04</td>\n",
       "      <td>0.0</td>\n",
       "      <td>DataReady</td>\n",
       "    </tr>\n",
       "    <tr>\n",
       "      <th>13</th>\n",
       "      <td>6922</td>\n",
       "      <td>全无人收发车专用</td>\n",
       "      <td>234269</td>\n",
       "      <td>YR_MKZ_8</td>\n",
       "      <td>shenzhen</td>\n",
       "      <td>2022-08-01</td>\n",
       "      <td>10:38:24</td>\n",
       "      <td>10:41:48</td>\n",
       "      <td>0.06</td>\n",
       "      <td>0.0</td>\n",
       "      <td>DataReady</td>\n",
       "    </tr>\n",
       "    <tr>\n",
       "      <th>14</th>\n",
       "      <td>6878</td>\n",
       "      <td>运营</td>\n",
       "      <td>234272</td>\n",
       "      <td>YR_MKZ_12</td>\n",
       "      <td>shenzhen</td>\n",
       "      <td>2022-08-01</td>\n",
       "      <td>10:41:20</td>\n",
       "      <td>10:41:44</td>\n",
       "      <td>0.01</td>\n",
       "      <td>0.0</td>\n",
       "      <td>End</td>\n",
       "    </tr>\n",
       "    <tr>\n",
       "      <th>15</th>\n",
       "      <td>6878</td>\n",
       "      <td>运营</td>\n",
       "      <td>234275</td>\n",
       "      <td>YR_MKZ_12</td>\n",
       "      <td>shenzhen</td>\n",
       "      <td>2022-08-01</td>\n",
       "      <td>10:43:43</td>\n",
       "      <td>10:46:46</td>\n",
       "      <td>0.05</td>\n",
       "      <td>0.0</td>\n",
       "      <td>End</td>\n",
       "    </tr>\n",
       "    <tr>\n",
       "      <th>16</th>\n",
       "      <td>6878</td>\n",
       "      <td>运营</td>\n",
       "      <td>234279</td>\n",
       "      <td>YR_ALX_6</td>\n",
       "      <td>shenzhen</td>\n",
       "      <td>2022-08-01</td>\n",
       "      <td>10:56:27</td>\n",
       "      <td>10:58:31</td>\n",
       "      <td>0.03</td>\n",
       "      <td>0.0</td>\n",
       "      <td>DataReady</td>\n",
       "    </tr>\n",
       "    <tr>\n",
       "      <th>17</th>\n",
       "      <td>6878</td>\n",
       "      <td>运营</td>\n",
       "      <td>234280</td>\n",
       "      <td>YR_ALX_6</td>\n",
       "      <td>shenzhen</td>\n",
       "      <td>2022-08-01</td>\n",
       "      <td>10:58:51</td>\n",
       "      <td>11:00:56</td>\n",
       "      <td>0.03</td>\n",
       "      <td>0.0</td>\n",
       "      <td>DataReady</td>\n",
       "    </tr>\n",
       "    <tr>\n",
       "      <th>18</th>\n",
       "      <td>6878</td>\n",
       "      <td>运营</td>\n",
       "      <td>234281</td>\n",
       "      <td>YR_ALX_6</td>\n",
       "      <td>shenzhen</td>\n",
       "      <td>2022-08-01</td>\n",
       "      <td>11:01:16</td>\n",
       "      <td>11:03:19</td>\n",
       "      <td>0.03</td>\n",
       "      <td>0.0</td>\n",
       "      <td>DataReady</td>\n",
       "    </tr>\n",
       "    <tr>\n",
       "      <th>19</th>\n",
       "      <td>6878</td>\n",
       "      <td>运营</td>\n",
       "      <td>234288</td>\n",
       "      <td>YR_MKZ_12</td>\n",
       "      <td>shenzhen</td>\n",
       "      <td>2022-08-01</td>\n",
       "      <td>11:21:21</td>\n",
       "      <td>11:22:35</td>\n",
       "      <td>0.02</td>\n",
       "      <td>0.0</td>\n",
       "      <td>End</td>\n",
       "    </tr>\n",
       "    <tr>\n",
       "      <th>20</th>\n",
       "      <td>6878</td>\n",
       "      <td>运营</td>\n",
       "      <td>234298</td>\n",
       "      <td>YR_MKZ_10</td>\n",
       "      <td>shenzhen</td>\n",
       "      <td>2022-08-01</td>\n",
       "      <td>13:42:17</td>\n",
       "      <td>13:43:23</td>\n",
       "      <td>0.02</td>\n",
       "      <td>0.0</td>\n",
       "      <td>DataReady</td>\n",
       "    </tr>\n",
       "    <tr>\n",
       "      <th>21</th>\n",
       "      <td>6878</td>\n",
       "      <td>运营</td>\n",
       "      <td>234299</td>\n",
       "      <td>YR_MKZ_10</td>\n",
       "      <td>shenzhen</td>\n",
       "      <td>2022-08-01</td>\n",
       "      <td>13:43:36</td>\n",
       "      <td>13:47:21</td>\n",
       "      <td>0.06</td>\n",
       "      <td>0.0</td>\n",
       "      <td>DataReady</td>\n",
       "    </tr>\n",
       "    <tr>\n",
       "      <th>22</th>\n",
       "      <td>6878</td>\n",
       "      <td>运营</td>\n",
       "      <td>234304</td>\n",
       "      <td>YR_MKZ_10</td>\n",
       "      <td>shenzhen</td>\n",
       "      <td>2022-08-01</td>\n",
       "      <td>13:47:35</td>\n",
       "      <td>13:49:42</td>\n",
       "      <td>0.04</td>\n",
       "      <td>0.0</td>\n",
       "      <td>DataReady</td>\n",
       "    </tr>\n",
       "    <tr>\n",
       "      <th>23</th>\n",
       "      <td>6878</td>\n",
       "      <td>运营</td>\n",
       "      <td>234311</td>\n",
       "      <td>YR_MKZ_11</td>\n",
       "      <td>shenzhen</td>\n",
       "      <td>2022-08-01</td>\n",
       "      <td>13:54:46</td>\n",
       "      <td>13:59:31</td>\n",
       "      <td>0.08</td>\n",
       "      <td>1.0</td>\n",
       "      <td>DataReady</td>\n",
       "    </tr>\n",
       "    <tr>\n",
       "      <th>24</th>\n",
       "      <td>6918</td>\n",
       "      <td>模块测试</td>\n",
       "      <td>234313</td>\n",
       "      <td>YR_MAR_24</td>\n",
       "      <td>shenzhen</td>\n",
       "      <td>2022-08-01</td>\n",
       "      <td>13:57:00</td>\n",
       "      <td>14:00:43</td>\n",
       "      <td>0.06</td>\n",
       "      <td>0.0</td>\n",
       "      <td>End</td>\n",
       "    </tr>\n",
       "    <tr>\n",
       "      <th>25</th>\n",
       "      <td>6918</td>\n",
       "      <td>模块测试</td>\n",
       "      <td>234318</td>\n",
       "      <td>YR_MAR_24</td>\n",
       "      <td>shenzhen</td>\n",
       "      <td>2022-08-01</td>\n",
       "      <td>14:01:03</td>\n",
       "      <td>14:01:11</td>\n",
       "      <td>0.00</td>\n",
       "      <td>0.0</td>\n",
       "      <td>End</td>\n",
       "    </tr>\n",
       "    <tr>\n",
       "      <th>26</th>\n",
       "      <td>6878</td>\n",
       "      <td>运营</td>\n",
       "      <td>234320</td>\n",
       "      <td>YR_MKZ_12</td>\n",
       "      <td>shenzhen</td>\n",
       "      <td>2022-08-01</td>\n",
       "      <td>14:02:16</td>\n",
       "      <td>14:03:24</td>\n",
       "      <td>0.02</td>\n",
       "      <td>0.0</td>\n",
       "      <td>End</td>\n",
       "    </tr>\n",
       "    <tr>\n",
       "      <th>27</th>\n",
       "      <td>6936</td>\n",
       "      <td>运营</td>\n",
       "      <td>234328</td>\n",
       "      <td>YR_ALX_9</td>\n",
       "      <td>shenzhen</td>\n",
       "      <td>2022-08-01</td>\n",
       "      <td>14:32:39</td>\n",
       "      <td>14:33:23</td>\n",
       "      <td>0.01</td>\n",
       "      <td>0.0</td>\n",
       "      <td>End</td>\n",
       "    </tr>\n",
       "    <tr>\n",
       "      <th>28</th>\n",
       "      <td>6918</td>\n",
       "      <td>模块测试</td>\n",
       "      <td>234333</td>\n",
       "      <td>YR_MAR_24</td>\n",
       "      <td>shenzhen</td>\n",
       "      <td>2022-08-01</td>\n",
       "      <td>14:42:28</td>\n",
       "      <td>14:44:35</td>\n",
       "      <td>0.04</td>\n",
       "      <td>0.0</td>\n",
       "      <td>DataReady</td>\n",
       "    </tr>\n",
       "    <tr>\n",
       "      <th>29</th>\n",
       "      <td>6918</td>\n",
       "      <td>模块测试</td>\n",
       "      <td>234335</td>\n",
       "      <td>YR_MAR_24</td>\n",
       "      <td>shenzhen</td>\n",
       "      <td>2022-08-01</td>\n",
       "      <td>14:44:56</td>\n",
       "      <td>14:47:02</td>\n",
       "      <td>0.04</td>\n",
       "      <td>0.0</td>\n",
       "      <td>DataReady</td>\n",
       "    </tr>\n",
       "    <tr>\n",
       "      <th>30</th>\n",
       "      <td>3197</td>\n",
       "      <td>全无人测试</td>\n",
       "      <td>18047</td>\n",
       "      <td>YR_ALX_1</td>\n",
       "      <td>shenzhen</td>\n",
       "      <td>2022-08-01</td>\n",
       "      <td>14:47:14</td>\n",
       "      <td>14:50:03</td>\n",
       "      <td>0.05</td>\n",
       "      <td>0.0</td>\n",
       "      <td>End</td>\n",
       "    </tr>\n",
       "    <tr>\n",
       "      <th>31</th>\n",
       "      <td>6762</td>\n",
       "      <td>建图</td>\n",
       "      <td>234339</td>\n",
       "      <td>YR_MKZ_7</td>\n",
       "      <td>shenzhen</td>\n",
       "      <td>2022-08-01</td>\n",
       "      <td>14:57:59</td>\n",
       "      <td>14:59:58</td>\n",
       "      <td>0.03</td>\n",
       "      <td>0.0</td>\n",
       "      <td>DataReady</td>\n",
       "    </tr>\n",
       "    <tr>\n",
       "      <th>32</th>\n",
       "      <td>6762</td>\n",
       "      <td>建图</td>\n",
       "      <td>234346</td>\n",
       "      <td>YR_MKZ_7</td>\n",
       "      <td>shenzhen</td>\n",
       "      <td>2022-08-01</td>\n",
       "      <td>15:45:09</td>\n",
       "      <td>15:45:45</td>\n",
       "      <td>0.01</td>\n",
       "      <td>0.0</td>\n",
       "      <td>DataReady</td>\n",
       "    </tr>\n",
       "    <tr>\n",
       "      <th>33</th>\n",
       "      <td>3273</td>\n",
       "      <td>建图</td>\n",
       "      <td>18050</td>\n",
       "      <td>YR_ALX_2</td>\n",
       "      <td>shenzhen</td>\n",
       "      <td>2022-08-01</td>\n",
       "      <td>16:49:00</td>\n",
       "      <td>16:49:21</td>\n",
       "      <td>0.01</td>\n",
       "      <td>0.0</td>\n",
       "      <td>End</td>\n",
       "    </tr>\n",
       "    <tr>\n",
       "      <th>34</th>\n",
       "      <td>3273</td>\n",
       "      <td>建图</td>\n",
       "      <td>18053</td>\n",
       "      <td>YR_ALX_2</td>\n",
       "      <td>shenzhen</td>\n",
       "      <td>2022-08-01</td>\n",
       "      <td>17:07:37</td>\n",
       "      <td>17:07:51</td>\n",
       "      <td>0.00</td>\n",
       "      <td>0.0</td>\n",
       "      <td>End</td>\n",
       "    </tr>\n",
       "    <tr>\n",
       "      <th>35</th>\n",
       "      <td>3273</td>\n",
       "      <td>建图</td>\n",
       "      <td>18054</td>\n",
       "      <td>YR_ALX_2</td>\n",
       "      <td>shenzhen</td>\n",
       "      <td>2022-08-01</td>\n",
       "      <td>17:09:25</td>\n",
       "      <td>17:09:48</td>\n",
       "      <td>0.01</td>\n",
       "      <td>0.0</td>\n",
       "      <td>End</td>\n",
       "    </tr>\n",
       "    <tr>\n",
       "      <th>36</th>\n",
       "      <td>3253</td>\n",
       "      <td>测试</td>\n",
       "      <td>18058</td>\n",
       "      <td>YR_MKZ_6</td>\n",
       "      <td>shenzhen</td>\n",
       "      <td>2022-08-01</td>\n",
       "      <td>21:55:20</td>\n",
       "      <td>21:58:20</td>\n",
       "      <td>0.05</td>\n",
       "      <td>0.0</td>\n",
       "      <td>End</td>\n",
       "    </tr>\n",
       "    <tr>\n",
       "      <th>37</th>\n",
       "      <td>3276</td>\n",
       "      <td>模块测试</td>\n",
       "      <td>18059</td>\n",
       "      <td>YR_MAR_14</td>\n",
       "      <td>shenzhen</td>\n",
       "      <td>2022-08-01</td>\n",
       "      <td>22:36:55</td>\n",
       "      <td>22:37:29</td>\n",
       "      <td>0.01</td>\n",
       "      <td>0.0</td>\n",
       "      <td>End</td>\n",
       "    </tr>\n",
       "    <tr>\n",
       "      <th>38</th>\n",
       "      <td>3276</td>\n",
       "      <td>模块测试</td>\n",
       "      <td>18060</td>\n",
       "      <td>YR_MAR_14</td>\n",
       "      <td>shenzhen</td>\n",
       "      <td>2022-08-01</td>\n",
       "      <td>22:41:25</td>\n",
       "      <td>22:45:26</td>\n",
       "      <td>0.07</td>\n",
       "      <td>0.0</td>\n",
       "      <td>End</td>\n",
       "    </tr>\n",
       "  </tbody>\n",
       "</table>"
      ],
      "text/plain": [
       "<IPython.core.display.HTML object>"
      ]
     },
     "metadata": {},
     "output_type": "display_data"
    }
   ],
   "source": [
    "display(HTML(ar.part_4a(date).to_html()))"
   ]
  },
  {
   "cell_type": "markdown",
   "id": "02455bb8",
   "metadata": {},
   "source": [
    "# 二、OB Dashboard"
   ]
  },
  {
   "cell_type": "markdown",
   "id": "0fea05be",
   "metadata": {},
   "source": [
    "### 本日新增OB分布图"
   ]
  },
  {
   "cell_type": "code",
   "execution_count": 11,
   "id": "f5622ba9",
   "metadata": {},
   "outputs": [
    {
     "data": {
      "application/vnd.plotly.v1+json": {
       "config": {
        "plotlyServerURL": "https://plot.ly"
       },
       "data": [
        {
         "domain": {
          "x": [
           0,
           1
          ],
          "y": [
           0,
           1
          ]
         },
         "hovertemplate": "label=%{label}<br>value=%{value}<extra></extra>",
         "labels": [
          "未排查",
          "坐牢",
          "坐牢, 硬件问题",
          "坐牢, 运营效率问题",
          "硬件问题"
         ],
         "legendgroup": "",
         "name": "",
         "showlegend": true,
         "textinfo": "percent+label",
         "textposition": "inside",
         "type": "pie",
         "values": [
          13,
          4,
          3,
          1,
          2
         ]
        }
       ],
       "layout": {
        "height": 750,
        "legend": {
         "tracegroupgap": 0
        },
        "margin": {
         "t": 60
        },
        "template": {
         "data": {
          "bar": [
           {
            "error_x": {
             "color": "#2a3f5f"
            },
            "error_y": {
             "color": "#2a3f5f"
            },
            "marker": {
             "line": {
              "color": "#E5ECF6",
              "width": 0.5
             },
             "pattern": {
              "fillmode": "overlay",
              "size": 10,
              "solidity": 0.2
             }
            },
            "type": "bar"
           }
          ],
          "barpolar": [
           {
            "marker": {
             "line": {
              "color": "#E5ECF6",
              "width": 0.5
             },
             "pattern": {
              "fillmode": "overlay",
              "size": 10,
              "solidity": 0.2
             }
            },
            "type": "barpolar"
           }
          ],
          "carpet": [
           {
            "aaxis": {
             "endlinecolor": "#2a3f5f",
             "gridcolor": "white",
             "linecolor": "white",
             "minorgridcolor": "white",
             "startlinecolor": "#2a3f5f"
            },
            "baxis": {
             "endlinecolor": "#2a3f5f",
             "gridcolor": "white",
             "linecolor": "white",
             "minorgridcolor": "white",
             "startlinecolor": "#2a3f5f"
            },
            "type": "carpet"
           }
          ],
          "choropleth": [
           {
            "colorbar": {
             "outlinewidth": 0,
             "ticks": ""
            },
            "type": "choropleth"
           }
          ],
          "contour": [
           {
            "colorbar": {
             "outlinewidth": 0,
             "ticks": ""
            },
            "colorscale": [
             [
              0,
              "#0d0887"
             ],
             [
              0.1111111111111111,
              "#46039f"
             ],
             [
              0.2222222222222222,
              "#7201a8"
             ],
             [
              0.3333333333333333,
              "#9c179e"
             ],
             [
              0.4444444444444444,
              "#bd3786"
             ],
             [
              0.5555555555555556,
              "#d8576b"
             ],
             [
              0.6666666666666666,
              "#ed7953"
             ],
             [
              0.7777777777777778,
              "#fb9f3a"
             ],
             [
              0.8888888888888888,
              "#fdca26"
             ],
             [
              1,
              "#f0f921"
             ]
            ],
            "type": "contour"
           }
          ],
          "contourcarpet": [
           {
            "colorbar": {
             "outlinewidth": 0,
             "ticks": ""
            },
            "type": "contourcarpet"
           }
          ],
          "heatmap": [
           {
            "colorbar": {
             "outlinewidth": 0,
             "ticks": ""
            },
            "colorscale": [
             [
              0,
              "#0d0887"
             ],
             [
              0.1111111111111111,
              "#46039f"
             ],
             [
              0.2222222222222222,
              "#7201a8"
             ],
             [
              0.3333333333333333,
              "#9c179e"
             ],
             [
              0.4444444444444444,
              "#bd3786"
             ],
             [
              0.5555555555555556,
              "#d8576b"
             ],
             [
              0.6666666666666666,
              "#ed7953"
             ],
             [
              0.7777777777777778,
              "#fb9f3a"
             ],
             [
              0.8888888888888888,
              "#fdca26"
             ],
             [
              1,
              "#f0f921"
             ]
            ],
            "type": "heatmap"
           }
          ],
          "heatmapgl": [
           {
            "colorbar": {
             "outlinewidth": 0,
             "ticks": ""
            },
            "colorscale": [
             [
              0,
              "#0d0887"
             ],
             [
              0.1111111111111111,
              "#46039f"
             ],
             [
              0.2222222222222222,
              "#7201a8"
             ],
             [
              0.3333333333333333,
              "#9c179e"
             ],
             [
              0.4444444444444444,
              "#bd3786"
             ],
             [
              0.5555555555555556,
              "#d8576b"
             ],
             [
              0.6666666666666666,
              "#ed7953"
             ],
             [
              0.7777777777777778,
              "#fb9f3a"
             ],
             [
              0.8888888888888888,
              "#fdca26"
             ],
             [
              1,
              "#f0f921"
             ]
            ],
            "type": "heatmapgl"
           }
          ],
          "histogram": [
           {
            "marker": {
             "pattern": {
              "fillmode": "overlay",
              "size": 10,
              "solidity": 0.2
             }
            },
            "type": "histogram"
           }
          ],
          "histogram2d": [
           {
            "colorbar": {
             "outlinewidth": 0,
             "ticks": ""
            },
            "colorscale": [
             [
              0,
              "#0d0887"
             ],
             [
              0.1111111111111111,
              "#46039f"
             ],
             [
              0.2222222222222222,
              "#7201a8"
             ],
             [
              0.3333333333333333,
              "#9c179e"
             ],
             [
              0.4444444444444444,
              "#bd3786"
             ],
             [
              0.5555555555555556,
              "#d8576b"
             ],
             [
              0.6666666666666666,
              "#ed7953"
             ],
             [
              0.7777777777777778,
              "#fb9f3a"
             ],
             [
              0.8888888888888888,
              "#fdca26"
             ],
             [
              1,
              "#f0f921"
             ]
            ],
            "type": "histogram2d"
           }
          ],
          "histogram2dcontour": [
           {
            "colorbar": {
             "outlinewidth": 0,
             "ticks": ""
            },
            "colorscale": [
             [
              0,
              "#0d0887"
             ],
             [
              0.1111111111111111,
              "#46039f"
             ],
             [
              0.2222222222222222,
              "#7201a8"
             ],
             [
              0.3333333333333333,
              "#9c179e"
             ],
             [
              0.4444444444444444,
              "#bd3786"
             ],
             [
              0.5555555555555556,
              "#d8576b"
             ],
             [
              0.6666666666666666,
              "#ed7953"
             ],
             [
              0.7777777777777778,
              "#fb9f3a"
             ],
             [
              0.8888888888888888,
              "#fdca26"
             ],
             [
              1,
              "#f0f921"
             ]
            ],
            "type": "histogram2dcontour"
           }
          ],
          "mesh3d": [
           {
            "colorbar": {
             "outlinewidth": 0,
             "ticks": ""
            },
            "type": "mesh3d"
           }
          ],
          "parcoords": [
           {
            "line": {
             "colorbar": {
              "outlinewidth": 0,
              "ticks": ""
             }
            },
            "type": "parcoords"
           }
          ],
          "pie": [
           {
            "automargin": true,
            "type": "pie"
           }
          ],
          "scatter": [
           {
            "fillpattern": {
             "fillmode": "overlay",
             "size": 10,
             "solidity": 0.2
            },
            "type": "scatter"
           }
          ],
          "scatter3d": [
           {
            "line": {
             "colorbar": {
              "outlinewidth": 0,
              "ticks": ""
             }
            },
            "marker": {
             "colorbar": {
              "outlinewidth": 0,
              "ticks": ""
             }
            },
            "type": "scatter3d"
           }
          ],
          "scattercarpet": [
           {
            "marker": {
             "colorbar": {
              "outlinewidth": 0,
              "ticks": ""
             }
            },
            "type": "scattercarpet"
           }
          ],
          "scattergeo": [
           {
            "marker": {
             "colorbar": {
              "outlinewidth": 0,
              "ticks": ""
             }
            },
            "type": "scattergeo"
           }
          ],
          "scattergl": [
           {
            "marker": {
             "colorbar": {
              "outlinewidth": 0,
              "ticks": ""
             }
            },
            "type": "scattergl"
           }
          ],
          "scattermapbox": [
           {
            "marker": {
             "colorbar": {
              "outlinewidth": 0,
              "ticks": ""
             }
            },
            "type": "scattermapbox"
           }
          ],
          "scatterpolar": [
           {
            "marker": {
             "colorbar": {
              "outlinewidth": 0,
              "ticks": ""
             }
            },
            "type": "scatterpolar"
           }
          ],
          "scatterpolargl": [
           {
            "marker": {
             "colorbar": {
              "outlinewidth": 0,
              "ticks": ""
             }
            },
            "type": "scatterpolargl"
           }
          ],
          "scatterternary": [
           {
            "marker": {
             "colorbar": {
              "outlinewidth": 0,
              "ticks": ""
             }
            },
            "type": "scatterternary"
           }
          ],
          "surface": [
           {
            "colorbar": {
             "outlinewidth": 0,
             "ticks": ""
            },
            "colorscale": [
             [
              0,
              "#0d0887"
             ],
             [
              0.1111111111111111,
              "#46039f"
             ],
             [
              0.2222222222222222,
              "#7201a8"
             ],
             [
              0.3333333333333333,
              "#9c179e"
             ],
             [
              0.4444444444444444,
              "#bd3786"
             ],
             [
              0.5555555555555556,
              "#d8576b"
             ],
             [
              0.6666666666666666,
              "#ed7953"
             ],
             [
              0.7777777777777778,
              "#fb9f3a"
             ],
             [
              0.8888888888888888,
              "#fdca26"
             ],
             [
              1,
              "#f0f921"
             ]
            ],
            "type": "surface"
           }
          ],
          "table": [
           {
            "cells": {
             "fill": {
              "color": "#EBF0F8"
             },
             "line": {
              "color": "white"
             }
            },
            "header": {
             "fill": {
              "color": "#C8D4E3"
             },
             "line": {
              "color": "white"
             }
            },
            "type": "table"
           }
          ]
         },
         "layout": {
          "annotationdefaults": {
           "arrowcolor": "#2a3f5f",
           "arrowhead": 0,
           "arrowwidth": 1
          },
          "autotypenumbers": "strict",
          "coloraxis": {
           "colorbar": {
            "outlinewidth": 0,
            "ticks": ""
           }
          },
          "colorscale": {
           "diverging": [
            [
             0,
             "#8e0152"
            ],
            [
             0.1,
             "#c51b7d"
            ],
            [
             0.2,
             "#de77ae"
            ],
            [
             0.3,
             "#f1b6da"
            ],
            [
             0.4,
             "#fde0ef"
            ],
            [
             0.5,
             "#f7f7f7"
            ],
            [
             0.6,
             "#e6f5d0"
            ],
            [
             0.7,
             "#b8e186"
            ],
            [
             0.8,
             "#7fbc41"
            ],
            [
             0.9,
             "#4d9221"
            ],
            [
             1,
             "#276419"
            ]
           ],
           "sequential": [
            [
             0,
             "#0d0887"
            ],
            [
             0.1111111111111111,
             "#46039f"
            ],
            [
             0.2222222222222222,
             "#7201a8"
            ],
            [
             0.3333333333333333,
             "#9c179e"
            ],
            [
             0.4444444444444444,
             "#bd3786"
            ],
            [
             0.5555555555555556,
             "#d8576b"
            ],
            [
             0.6666666666666666,
             "#ed7953"
            ],
            [
             0.7777777777777778,
             "#fb9f3a"
            ],
            [
             0.8888888888888888,
             "#fdca26"
            ],
            [
             1,
             "#f0f921"
            ]
           ],
           "sequentialminus": [
            [
             0,
             "#0d0887"
            ],
            [
             0.1111111111111111,
             "#46039f"
            ],
            [
             0.2222222222222222,
             "#7201a8"
            ],
            [
             0.3333333333333333,
             "#9c179e"
            ],
            [
             0.4444444444444444,
             "#bd3786"
            ],
            [
             0.5555555555555556,
             "#d8576b"
            ],
            [
             0.6666666666666666,
             "#ed7953"
            ],
            [
             0.7777777777777778,
             "#fb9f3a"
            ],
            [
             0.8888888888888888,
             "#fdca26"
            ],
            [
             1,
             "#f0f921"
            ]
           ]
          },
          "colorway": [
           "#636efa",
           "#EF553B",
           "#00cc96",
           "#ab63fa",
           "#FFA15A",
           "#19d3f3",
           "#FF6692",
           "#B6E880",
           "#FF97FF",
           "#FECB52"
          ],
          "font": {
           "color": "#2a3f5f"
          },
          "geo": {
           "bgcolor": "white",
           "lakecolor": "white",
           "landcolor": "#E5ECF6",
           "showlakes": true,
           "showland": true,
           "subunitcolor": "white"
          },
          "hoverlabel": {
           "align": "left"
          },
          "hovermode": "closest",
          "mapbox": {
           "style": "light"
          },
          "paper_bgcolor": "white",
          "plot_bgcolor": "#E5ECF6",
          "polar": {
           "angularaxis": {
            "gridcolor": "white",
            "linecolor": "white",
            "ticks": ""
           },
           "bgcolor": "#E5ECF6",
           "radialaxis": {
            "gridcolor": "white",
            "linecolor": "white",
            "ticks": ""
           }
          },
          "scene": {
           "xaxis": {
            "backgroundcolor": "#E5ECF6",
            "gridcolor": "white",
            "gridwidth": 2,
            "linecolor": "white",
            "showbackground": true,
            "ticks": "",
            "zerolinecolor": "white"
           },
           "yaxis": {
            "backgroundcolor": "#E5ECF6",
            "gridcolor": "white",
            "gridwidth": 2,
            "linecolor": "white",
            "showbackground": true,
            "ticks": "",
            "zerolinecolor": "white"
           },
           "zaxis": {
            "backgroundcolor": "#E5ECF6",
            "gridcolor": "white",
            "gridwidth": 2,
            "linecolor": "white",
            "showbackground": true,
            "ticks": "",
            "zerolinecolor": "white"
           }
          },
          "shapedefaults": {
           "line": {
            "color": "#2a3f5f"
           }
          },
          "ternary": {
           "aaxis": {
            "gridcolor": "white",
            "linecolor": "white",
            "ticks": ""
           },
           "baxis": {
            "gridcolor": "white",
            "linecolor": "white",
            "ticks": ""
           },
           "bgcolor": "#E5ECF6",
           "caxis": {
            "gridcolor": "white",
            "linecolor": "white",
            "ticks": ""
           }
          },
          "title": {
           "x": 0.05
          },
          "xaxis": {
           "automargin": true,
           "gridcolor": "white",
           "linecolor": "white",
           "ticks": "",
           "title": {
            "standoff": 15
           },
           "zerolinecolor": "white",
           "zerolinewidth": 2
          },
          "yaxis": {
           "automargin": true,
           "gridcolor": "white",
           "linecolor": "white",
           "ticks": "",
           "title": {
            "standoff": 15
           },
           "zerolinecolor": "white",
           "zerolinewidth": 2
          }
         }
        }
       }
      }
     },
     "metadata": {},
     "output_type": "display_data"
    },
    {
     "name": "stdout",
     "output_type": "stream",
     "text": [
      "None\n"
     ]
    }
   ],
   "source": [
    "print(ar.part_5a())"
   ]
  },
  {
   "cell_type": "markdown",
   "id": "c29861df",
   "metadata": {},
   "source": [
    "### 昨日未解决OB"
   ]
  },
  {
   "cell_type": "code",
   "execution_count": 12,
   "id": "5465b98a",
   "metadata": {},
   "outputs": [
    {
     "data": {
      "text/html": [
       "<table border=\"1\" class=\"dataframe\">\n",
       "  <thead>\n",
       "    <tr style=\"text-align: right;\">\n",
       "      <th></th>\n",
       "      <th>key</th>\n",
       "      <th>summary</th>\n",
       "      <th>assignee</th>\n",
       "      <th>status</th>\n",
       "      <th>created</th>\n",
       "      <th>components</th>\n",
       "      <th>labels</th>\n",
       "    </tr>\n",
       "  </thead>\n",
       "  <tbody>\n",
       "    <tr>\n",
       "      <th>0</th>\n",
       "      <td>OB-13885</td>\n",
       "      <td>深南大道东往西方向，在主道最右侧车道直行时车速较快，遇道路施工，未减速紧急接管绕行。半小时前，从同路段自动驾驶绕行正常通过</td>\n",
       "      <td>None</td>\n",
       "      <td>BACKLOG</td>\n",
       "      <td>2022-07-31 17:04:06</td>\n",
       "      <td></td>\n",
       "      <td></td>\n",
       "    </tr>\n",
       "    <tr>\n",
       "      <th>1</th>\n",
       "      <td>OB-13870</td>\n",
       "      <td>滨河大道东往西右转时误检出停止线</td>\n",
       "      <td>None</td>\n",
       "      <td>BACKLOG</td>\n",
       "      <td>2022-07-31 11:33:40</td>\n",
       "      <td></td>\n",
       "      <td></td>\n",
       "    </tr>\n",
       "    <tr>\n",
       "      <th>2</th>\n",
       "      <td>OB-13884</td>\n",
       "      <td>识别到绿灯闪烁未减速，黄灯亮后有刹车的感觉，但是停不住，自动闯黄灯通过。今日多次出现</td>\n",
       "      <td>None</td>\n",
       "      <td>BACKLOG</td>\n",
       "      <td>2022-07-31 16:59:21</td>\n",
       "      <td></td>\n",
       "      <td></td>\n",
       "    </tr>\n",
       "    <tr>\n",
       "      <th>3</th>\n",
       "      <td>OB-13882</td>\n",
       "      <td>车辆硬盘再次掉落</td>\n",
       "      <td>None</td>\n",
       "      <td>BACKLOG</td>\n",
       "      <td>2022-07-31 16:47:06</td>\n",
       "      <td></td>\n",
       "      <td></td>\n",
       "    </tr>\n",
       "    <tr>\n",
       "      <th>4</th>\n",
       "      <td>OB-13881</td>\n",
       "      <td>车辆硬盘掉落，重启电脑</td>\n",
       "      <td>None</td>\n",
       "      <td>BACKLOG</td>\n",
       "      <td>2022-07-31 16:30:25</td>\n",
       "      <td></td>\n",
       "      <td></td>\n",
       "    </tr>\n",
       "    <tr>\n",
       "      <th>5</th>\n",
       "      <td>OB-13874</td>\n",
       "      <td>启动程序失败，坐牢</td>\n",
       "      <td>None</td>\n",
       "      <td>BACKLOG</td>\n",
       "      <td>2022-07-31 13:44:46</td>\n",
       "      <td></td>\n",
       "      <td></td>\n",
       "    </tr>\n",
       "    <tr>\n",
       "      <th>6</th>\n",
       "      <td>OB-13866</td>\n",
       "      <td>启动程序重启</td>\n",
       "      <td>None</td>\n",
       "      <td>BACKLOG</td>\n",
       "      <td>2022-07-31 08:57:36</td>\n",
       "      <td></td>\n",
       "      <td></td>\n",
       "    </tr>\n",
       "    <tr>\n",
       "      <th>7</th>\n",
       "      <td>OB-13863</td>\n",
       "      <td>自动驾驶启动失败，坐牢</td>\n",
       "      <td>None</td>\n",
       "      <td>BACKLOG</td>\n",
       "      <td>2022-07-31 08:45:16</td>\n",
       "      <td></td>\n",
       "      <td></td>\n",
       "    </tr>\n",
       "  </tbody>\n",
       "</table>"
      ],
      "text/plain": [
       "<IPython.core.display.HTML object>"
      ]
     },
     "metadata": {},
     "output_type": "display_data"
    }
   ],
   "source": [
    "try:\n",
    "    display(HTML(ar.part_5b().to_html()))\n",
    "except:\n",
    "    print('无未解决OB')"
   ]
  },
  {
   "cell_type": "markdown",
   "metadata": {},
   "source": [
    "# 附件\n",
    "## 运营数据详情"
   ]
  },
  {
   "cell_type": "code",
   "execution_count": 13,
   "metadata": {},
   "outputs": [
    {
     "data": {
      "text/html": [
       "<table border=\"1\" class=\"dataframe\">\n",
       "  <thead>\n",
       "    <tr style=\"text-align: right;\">\n",
       "      <th></th>\n",
       "      <th>Task_Id</th>\n",
       "      <th>Task_Type</th>\n",
       "      <th>Trip_ID</th>\n",
       "      <th>Car_ID</th>\n",
       "      <th>城市</th>\n",
       "      <th>日期</th>\n",
       "      <th>开始时刻</th>\n",
       "      <th>结束时刻</th>\n",
       "      <th>行程时间（H）</th>\n",
       "      <th>Trip里程（KM）</th>\n",
       "      <th>数据状态</th>\n",
       "    </tr>\n",
       "  </thead>\n",
       "  <tbody>\n",
       "    <tr>\n",
       "      <th>0</th>\n",
       "      <td>6879</td>\n",
       "      <td>运营</td>\n",
       "      <td>234305</td>\n",
       "      <td>YR_ALX_1</td>\n",
       "      <td>shenzhen</td>\n",
       "      <td>2022-08-01</td>\n",
       "      <td>13:48:09</td>\n",
       "      <td>17:03:31</td>\n",
       "      <td>3.26</td>\n",
       "      <td>25.0</td>\n",
       "      <td>未上传</td>\n",
       "    </tr>\n",
       "    <tr>\n",
       "      <th>1</th>\n",
       "      <td>6879</td>\n",
       "      <td>运营</td>\n",
       "      <td>234236</td>\n",
       "      <td>YR_ALX_1</td>\n",
       "      <td>shenzhen</td>\n",
       "      <td>2022-08-01</td>\n",
       "      <td>08:58:09</td>\n",
       "      <td>12:00:14</td>\n",
       "      <td>3.03</td>\n",
       "      <td>30.0</td>\n",
       "      <td>未上传</td>\n",
       "    </tr>\n",
       "    <tr>\n",
       "      <th>2</th>\n",
       "      <td>6881</td>\n",
       "      <td>运营</td>\n",
       "      <td>234295</td>\n",
       "      <td>YR_ALX_3</td>\n",
       "      <td>shenzhen</td>\n",
       "      <td>2022-08-01</td>\n",
       "      <td>13:35:16</td>\n",
       "      <td>None</td>\n",
       "      <td>NaN</td>\n",
       "      <td>null</td>\n",
       "      <td>未上传</td>\n",
       "    </tr>\n",
       "    <tr>\n",
       "      <th>3</th>\n",
       "      <td>6881</td>\n",
       "      <td>运营</td>\n",
       "      <td>234262</td>\n",
       "      <td>YR_ALX_3</td>\n",
       "      <td>shenzhen</td>\n",
       "      <td>2022-08-01</td>\n",
       "      <td>10:14:47</td>\n",
       "      <td>12:00:18</td>\n",
       "      <td>1.76</td>\n",
       "      <td>9.0</td>\n",
       "      <td>未上传</td>\n",
       "    </tr>\n",
       "    <tr>\n",
       "      <th>4</th>\n",
       "      <td>6881</td>\n",
       "      <td>运营</td>\n",
       "      <td>234260</td>\n",
       "      <td>YR_ALX_3</td>\n",
       "      <td>shenzhen</td>\n",
       "      <td>2022-08-01</td>\n",
       "      <td>10:10:25</td>\n",
       "      <td>10:14:15</td>\n",
       "      <td>0.06</td>\n",
       "      <td>0.0</td>\n",
       "      <td>未上传</td>\n",
       "    </tr>\n",
       "    <tr>\n",
       "      <th>5</th>\n",
       "      <td>6881</td>\n",
       "      <td>运营</td>\n",
       "      <td>234259</td>\n",
       "      <td>YR_ALX_3</td>\n",
       "      <td>shenzhen</td>\n",
       "      <td>2022-08-01</td>\n",
       "      <td>10:09:18</td>\n",
       "      <td>10:09:36</td>\n",
       "      <td>0.00</td>\n",
       "      <td>0.0</td>\n",
       "      <td>未上传</td>\n",
       "    </tr>\n",
       "    <tr>\n",
       "      <th>6</th>\n",
       "      <td>6881</td>\n",
       "      <td>运营</td>\n",
       "      <td>234258</td>\n",
       "      <td>YR_ALX_3</td>\n",
       "      <td>shenzhen</td>\n",
       "      <td>2022-08-01</td>\n",
       "      <td>10:07:43</td>\n",
       "      <td>10:08:15</td>\n",
       "      <td>0.01</td>\n",
       "      <td>0.0</td>\n",
       "      <td>未上传</td>\n",
       "    </tr>\n",
       "    <tr>\n",
       "      <th>7</th>\n",
       "      <td>6881</td>\n",
       "      <td>运营</td>\n",
       "      <td>234256</td>\n",
       "      <td>YR_ALX_3</td>\n",
       "      <td>shenzhen</td>\n",
       "      <td>2022-08-01</td>\n",
       "      <td>10:05:47</td>\n",
       "      <td>10:05:54</td>\n",
       "      <td>0.00</td>\n",
       "      <td>0.0</td>\n",
       "      <td>未上传</td>\n",
       "    </tr>\n",
       "    <tr>\n",
       "      <th>8</th>\n",
       "      <td>6881</td>\n",
       "      <td>运营</td>\n",
       "      <td>234250</td>\n",
       "      <td>YR_ALX_3</td>\n",
       "      <td>shenzhen</td>\n",
       "      <td>2022-08-01</td>\n",
       "      <td>09:55:44</td>\n",
       "      <td>09:56:06</td>\n",
       "      <td>0.01</td>\n",
       "      <td>0.0</td>\n",
       "      <td>未上传</td>\n",
       "    </tr>\n",
       "    <tr>\n",
       "      <th>9</th>\n",
       "      <td>6881</td>\n",
       "      <td>运营</td>\n",
       "      <td>234249</td>\n",
       "      <td>YR_ALX_3</td>\n",
       "      <td>shenzhen</td>\n",
       "      <td>2022-08-01</td>\n",
       "      <td>09:53:18</td>\n",
       "      <td>09:53:25</td>\n",
       "      <td>0.00</td>\n",
       "      <td>0.0</td>\n",
       "      <td>未上传</td>\n",
       "    </tr>\n",
       "    <tr>\n",
       "      <th>10</th>\n",
       "      <td>6881</td>\n",
       "      <td>运营</td>\n",
       "      <td>234225</td>\n",
       "      <td>YR_ALX_3</td>\n",
       "      <td>shenzhen</td>\n",
       "      <td>2022-08-01</td>\n",
       "      <td>08:06:24</td>\n",
       "      <td>09:46:28</td>\n",
       "      <td>1.67</td>\n",
       "      <td>0.0</td>\n",
       "      <td>未上传</td>\n",
       "    </tr>\n",
       "    <tr>\n",
       "      <th>11</th>\n",
       "      <td>6878</td>\n",
       "      <td>运营</td>\n",
       "      <td>234309</td>\n",
       "      <td>YR_ALX_5</td>\n",
       "      <td>shenzhen</td>\n",
       "      <td>2022-08-01</td>\n",
       "      <td>13:50:22</td>\n",
       "      <td>17:00:08</td>\n",
       "      <td>3.16</td>\n",
       "      <td>49.0</td>\n",
       "      <td>未上传</td>\n",
       "    </tr>\n",
       "    <tr>\n",
       "      <th>12</th>\n",
       "      <td>6878</td>\n",
       "      <td>运营</td>\n",
       "      <td>234235</td>\n",
       "      <td>YR_ALX_5</td>\n",
       "      <td>shenzhen</td>\n",
       "      <td>2022-08-01</td>\n",
       "      <td>08:53:32</td>\n",
       "      <td>12:00:25</td>\n",
       "      <td>3.11</td>\n",
       "      <td>37.0</td>\n",
       "      <td>未上传</td>\n",
       "    </tr>\n",
       "    <tr>\n",
       "      <th>13</th>\n",
       "      <td>6878</td>\n",
       "      <td>运营</td>\n",
       "      <td>234300</td>\n",
       "      <td>YR_ALX_6</td>\n",
       "      <td>shenzhen</td>\n",
       "      <td>2022-08-01</td>\n",
       "      <td>13:43:53</td>\n",
       "      <td>17:10:20</td>\n",
       "      <td>3.44</td>\n",
       "      <td>41.0</td>\n",
       "      <td>未上传</td>\n",
       "    </tr>\n",
       "    <tr>\n",
       "      <th>14</th>\n",
       "      <td>6878</td>\n",
       "      <td>运营</td>\n",
       "      <td>234284</td>\n",
       "      <td>YR_ALX_6</td>\n",
       "      <td>shenzhen</td>\n",
       "      <td>2022-08-01</td>\n",
       "      <td>11:03:39</td>\n",
       "      <td>12:00:35</td>\n",
       "      <td>0.95</td>\n",
       "      <td>12.0</td>\n",
       "      <td>未上传</td>\n",
       "    </tr>\n",
       "    <tr>\n",
       "      <th>15</th>\n",
       "      <td>6878</td>\n",
       "      <td>运营</td>\n",
       "      <td>234281</td>\n",
       "      <td>YR_ALX_6</td>\n",
       "      <td>shenzhen</td>\n",
       "      <td>2022-08-01</td>\n",
       "      <td>11:01:16</td>\n",
       "      <td>11:03:19</td>\n",
       "      <td>0.03</td>\n",
       "      <td>0.0</td>\n",
       "      <td>未上传</td>\n",
       "    </tr>\n",
       "    <tr>\n",
       "      <th>16</th>\n",
       "      <td>6878</td>\n",
       "      <td>运营</td>\n",
       "      <td>234280</td>\n",
       "      <td>YR_ALX_6</td>\n",
       "      <td>shenzhen</td>\n",
       "      <td>2022-08-01</td>\n",
       "      <td>10:58:51</td>\n",
       "      <td>11:00:56</td>\n",
       "      <td>0.03</td>\n",
       "      <td>0.0</td>\n",
       "      <td>未上传</td>\n",
       "    </tr>\n",
       "    <tr>\n",
       "      <th>17</th>\n",
       "      <td>6878</td>\n",
       "      <td>运营</td>\n",
       "      <td>234279</td>\n",
       "      <td>YR_ALX_6</td>\n",
       "      <td>shenzhen</td>\n",
       "      <td>2022-08-01</td>\n",
       "      <td>10:56:27</td>\n",
       "      <td>10:58:31</td>\n",
       "      <td>0.03</td>\n",
       "      <td>0.0</td>\n",
       "      <td>未上传</td>\n",
       "    </tr>\n",
       "    <tr>\n",
       "      <th>18</th>\n",
       "      <td>6878</td>\n",
       "      <td>运营</td>\n",
       "      <td>234229</td>\n",
       "      <td>YR_ALX_6</td>\n",
       "      <td>shenzhen</td>\n",
       "      <td>2022-08-01</td>\n",
       "      <td>08:36:48</td>\n",
       "      <td>10:52:58</td>\n",
       "      <td>2.27</td>\n",
       "      <td>0.0</td>\n",
       "      <td>未上传</td>\n",
       "    </tr>\n",
       "    <tr>\n",
       "      <th>19</th>\n",
       "      <td>6878</td>\n",
       "      <td>运营</td>\n",
       "      <td>234297</td>\n",
       "      <td>YR_ALX_7</td>\n",
       "      <td>shenzhen</td>\n",
       "      <td>2022-08-01</td>\n",
       "      <td>13:40:19</td>\n",
       "      <td>17:00:29</td>\n",
       "      <td>3.34</td>\n",
       "      <td>34.0</td>\n",
       "      <td>未上传</td>\n",
       "    </tr>\n",
       "    <tr>\n",
       "      <th>20</th>\n",
       "      <td>6878</td>\n",
       "      <td>运营</td>\n",
       "      <td>234234</td>\n",
       "      <td>YR_ALX_7</td>\n",
       "      <td>shenzhen</td>\n",
       "      <td>2022-08-01</td>\n",
       "      <td>08:48:12</td>\n",
       "      <td>12:00:48</td>\n",
       "      <td>3.21</td>\n",
       "      <td>46.0</td>\n",
       "      <td>未上传</td>\n",
       "    </tr>\n",
       "    <tr>\n",
       "      <th>21</th>\n",
       "      <td>6936</td>\n",
       "      <td>运营</td>\n",
       "      <td>234357</td>\n",
       "      <td>YR_ALX_9</td>\n",
       "      <td>shenzhen</td>\n",
       "      <td>2022-08-01</td>\n",
       "      <td>17:20:39</td>\n",
       "      <td>17:38:20</td>\n",
       "      <td>0.29</td>\n",
       "      <td>4.0</td>\n",
       "      <td>未上传</td>\n",
       "    </tr>\n",
       "    <tr>\n",
       "      <th>22</th>\n",
       "      <td>6936</td>\n",
       "      <td>运营</td>\n",
       "      <td>234355</td>\n",
       "      <td>YR_ALX_9</td>\n",
       "      <td>shenzhen</td>\n",
       "      <td>2022-08-01</td>\n",
       "      <td>17:00:17</td>\n",
       "      <td>17:20:22</td>\n",
       "      <td>0.33</td>\n",
       "      <td>5.0</td>\n",
       "      <td>未上传</td>\n",
       "    </tr>\n",
       "    <tr>\n",
       "      <th>23</th>\n",
       "      <td>6936</td>\n",
       "      <td>运营</td>\n",
       "      <td>234353</td>\n",
       "      <td>YR_ALX_9</td>\n",
       "      <td>shenzhen</td>\n",
       "      <td>2022-08-01</td>\n",
       "      <td>16:18:38</td>\n",
       "      <td>16:59:44</td>\n",
       "      <td>0.69</td>\n",
       "      <td>5.0</td>\n",
       "      <td>未上传</td>\n",
       "    </tr>\n",
       "    <tr>\n",
       "      <th>24</th>\n",
       "      <td>6936</td>\n",
       "      <td>运营</td>\n",
       "      <td>234345</td>\n",
       "      <td>YR_ALX_9</td>\n",
       "      <td>shenzhen</td>\n",
       "      <td>2022-08-01</td>\n",
       "      <td>15:26:14</td>\n",
       "      <td>16:17:46</td>\n",
       "      <td>0.86</td>\n",
       "      <td>3.0</td>\n",
       "      <td>未上传</td>\n",
       "    </tr>\n",
       "    <tr>\n",
       "      <th>25</th>\n",
       "      <td>6936</td>\n",
       "      <td>运营</td>\n",
       "      <td>234341</td>\n",
       "      <td>YR_ALX_9</td>\n",
       "      <td>shenzhen</td>\n",
       "      <td>2022-08-01</td>\n",
       "      <td>15:07:26</td>\n",
       "      <td>None</td>\n",
       "      <td>NaN</td>\n",
       "      <td>null</td>\n",
       "      <td>未上传</td>\n",
       "    </tr>\n",
       "    <tr>\n",
       "      <th>26</th>\n",
       "      <td>6936</td>\n",
       "      <td>运营</td>\n",
       "      <td>234331</td>\n",
       "      <td>YR_ALX_9</td>\n",
       "      <td>shenzhen</td>\n",
       "      <td>2022-08-01</td>\n",
       "      <td>14:38:13</td>\n",
       "      <td>15:03:52</td>\n",
       "      <td>0.43</td>\n",
       "      <td>0.0</td>\n",
       "      <td>未上传</td>\n",
       "    </tr>\n",
       "    <tr>\n",
       "      <th>27</th>\n",
       "      <td>6936</td>\n",
       "      <td>运营</td>\n",
       "      <td>234328</td>\n",
       "      <td>YR_ALX_9</td>\n",
       "      <td>shenzhen</td>\n",
       "      <td>2022-08-01</td>\n",
       "      <td>14:32:39</td>\n",
       "      <td>14:33:23</td>\n",
       "      <td>0.01</td>\n",
       "      <td>0.0</td>\n",
       "      <td>未上传</td>\n",
       "    </tr>\n",
       "    <tr>\n",
       "      <th>28</th>\n",
       "      <td>6878</td>\n",
       "      <td>运营</td>\n",
       "      <td>234296</td>\n",
       "      <td>YR_MKZ_2</td>\n",
       "      <td>shenzhen</td>\n",
       "      <td>2022-08-01</td>\n",
       "      <td>13:39:51</td>\n",
       "      <td>17:02:04</td>\n",
       "      <td>3.37</td>\n",
       "      <td>35.0</td>\n",
       "      <td>未上传</td>\n",
       "    </tr>\n",
       "    <tr>\n",
       "      <th>29</th>\n",
       "      <td>6878</td>\n",
       "      <td>运营</td>\n",
       "      <td>234228</td>\n",
       "      <td>YR_MKZ_2</td>\n",
       "      <td>shenzhen</td>\n",
       "      <td>2022-08-01</td>\n",
       "      <td>08:36:45</td>\n",
       "      <td>12:13:32</td>\n",
       "      <td>3.61</td>\n",
       "      <td>41.0</td>\n",
       "      <td>未上传</td>\n",
       "    </tr>\n",
       "    <tr>\n",
       "      <th>30</th>\n",
       "      <td>6881</td>\n",
       "      <td>运营</td>\n",
       "      <td>234315</td>\n",
       "      <td>YR_MKZ_3</td>\n",
       "      <td>shenzhen</td>\n",
       "      <td>2022-08-01</td>\n",
       "      <td>13:59:12</td>\n",
       "      <td>17:14:34</td>\n",
       "      <td>3.26</td>\n",
       "      <td>40.0</td>\n",
       "      <td>未上传</td>\n",
       "    </tr>\n",
       "    <tr>\n",
       "      <th>31</th>\n",
       "      <td>6881</td>\n",
       "      <td>运营</td>\n",
       "      <td>234303</td>\n",
       "      <td>YR_MKZ_3</td>\n",
       "      <td>shenzhen</td>\n",
       "      <td>2022-08-01</td>\n",
       "      <td>13:46:45</td>\n",
       "      <td>13:55:37</td>\n",
       "      <td>0.15</td>\n",
       "      <td>0.0</td>\n",
       "      <td>未上传</td>\n",
       "    </tr>\n",
       "    <tr>\n",
       "      <th>32</th>\n",
       "      <td>6881</td>\n",
       "      <td>运营</td>\n",
       "      <td>234255</td>\n",
       "      <td>YR_MKZ_3</td>\n",
       "      <td>shenzhen</td>\n",
       "      <td>2022-08-01</td>\n",
       "      <td>10:04:40</td>\n",
       "      <td>12:00:13</td>\n",
       "      <td>1.93</td>\n",
       "      <td>26.0</td>\n",
       "      <td>未上传</td>\n",
       "    </tr>\n",
       "    <tr>\n",
       "      <th>33</th>\n",
       "      <td>6881</td>\n",
       "      <td>运营</td>\n",
       "      <td>234254</td>\n",
       "      <td>YR_MKZ_3</td>\n",
       "      <td>shenzhen</td>\n",
       "      <td>2022-08-01</td>\n",
       "      <td>10:02:37</td>\n",
       "      <td>10:03:13</td>\n",
       "      <td>0.01</td>\n",
       "      <td>0.0</td>\n",
       "      <td>未上传</td>\n",
       "    </tr>\n",
       "    <tr>\n",
       "      <th>34</th>\n",
       "      <td>6881</td>\n",
       "      <td>运营</td>\n",
       "      <td>234253</td>\n",
       "      <td>YR_MKZ_3</td>\n",
       "      <td>shenzhen</td>\n",
       "      <td>2022-08-01</td>\n",
       "      <td>10:01:32</td>\n",
       "      <td>10:02:22</td>\n",
       "      <td>0.01</td>\n",
       "      <td>0.0</td>\n",
       "      <td>未上传</td>\n",
       "    </tr>\n",
       "    <tr>\n",
       "      <th>35</th>\n",
       "      <td>6881</td>\n",
       "      <td>运营</td>\n",
       "      <td>234245</td>\n",
       "      <td>YR_MKZ_3</td>\n",
       "      <td>shenzhen</td>\n",
       "      <td>2022-08-01</td>\n",
       "      <td>09:47:32</td>\n",
       "      <td>10:01:11</td>\n",
       "      <td>0.23</td>\n",
       "      <td>0.0</td>\n",
       "      <td>未上传</td>\n",
       "    </tr>\n",
       "    <tr>\n",
       "      <th>36</th>\n",
       "      <td>6881</td>\n",
       "      <td>运营</td>\n",
       "      <td>234237</td>\n",
       "      <td>YR_MKZ_3</td>\n",
       "      <td>shenzhen</td>\n",
       "      <td>2022-08-01</td>\n",
       "      <td>08:58:14</td>\n",
       "      <td>09:01:16</td>\n",
       "      <td>0.05</td>\n",
       "      <td>0.0</td>\n",
       "      <td>未上传</td>\n",
       "    </tr>\n",
       "    <tr>\n",
       "      <th>37</th>\n",
       "      <td>6878</td>\n",
       "      <td>运营</td>\n",
       "      <td>234349</td>\n",
       "      <td>YR_MKZ_5</td>\n",
       "      <td>shenzhen</td>\n",
       "      <td>2022-08-01</td>\n",
       "      <td>15:55:17</td>\n",
       "      <td>16:55:01</td>\n",
       "      <td>1.00</td>\n",
       "      <td>9.0</td>\n",
       "      <td>未上传</td>\n",
       "    </tr>\n",
       "    <tr>\n",
       "      <th>38</th>\n",
       "      <td>6878</td>\n",
       "      <td>运营</td>\n",
       "      <td>234306</td>\n",
       "      <td>YR_ALX_10</td>\n",
       "      <td>shenzhen</td>\n",
       "      <td>2022-08-01</td>\n",
       "      <td>13:48:30</td>\n",
       "      <td>17:00:13</td>\n",
       "      <td>3.20</td>\n",
       "      <td>28.0</td>\n",
       "      <td>未上传</td>\n",
       "    </tr>\n",
       "    <tr>\n",
       "      <th>39</th>\n",
       "      <td>6878</td>\n",
       "      <td>运营</td>\n",
       "      <td>234227</td>\n",
       "      <td>YR_ALX_10</td>\n",
       "      <td>shenzhen</td>\n",
       "      <td>2022-08-01</td>\n",
       "      <td>08:31:47</td>\n",
       "      <td>12:00:31</td>\n",
       "      <td>3.48</td>\n",
       "      <td>33.0</td>\n",
       "      <td>未上传</td>\n",
       "    </tr>\n",
       "    <tr>\n",
       "      <th>40</th>\n",
       "      <td>6878</td>\n",
       "      <td>运营</td>\n",
       "      <td>234302</td>\n",
       "      <td>YR_MAR_19</td>\n",
       "      <td>shenzhen</td>\n",
       "      <td>2022-08-01</td>\n",
       "      <td>13:45:14</td>\n",
       "      <td>17:26:12</td>\n",
       "      <td>3.68</td>\n",
       "      <td>27.0</td>\n",
       "      <td>未上传</td>\n",
       "    </tr>\n",
       "    <tr>\n",
       "      <th>41</th>\n",
       "      <td>6878</td>\n",
       "      <td>运营</td>\n",
       "      <td>234226</td>\n",
       "      <td>YR_MAR_19</td>\n",
       "      <td>shenzhen</td>\n",
       "      <td>2022-08-01</td>\n",
       "      <td>08:30:59</td>\n",
       "      <td>12:00:15</td>\n",
       "      <td>3.49</td>\n",
       "      <td>34.0</td>\n",
       "      <td>未上传</td>\n",
       "    </tr>\n",
       "    <tr>\n",
       "      <th>42</th>\n",
       "      <td>6878</td>\n",
       "      <td>运营</td>\n",
       "      <td>234319</td>\n",
       "      <td>YR_MKZ_10</td>\n",
       "      <td>shenzhen</td>\n",
       "      <td>2022-08-01</td>\n",
       "      <td>14:02:04</td>\n",
       "      <td>17:09:23</td>\n",
       "      <td>3.12</td>\n",
       "      <td>56.0</td>\n",
       "      <td>未上传</td>\n",
       "    </tr>\n",
       "    <tr>\n",
       "      <th>43</th>\n",
       "      <td>6878</td>\n",
       "      <td>运营</td>\n",
       "      <td>234307</td>\n",
       "      <td>YR_MKZ_10</td>\n",
       "      <td>shenzhen</td>\n",
       "      <td>2022-08-01</td>\n",
       "      <td>13:50:02</td>\n",
       "      <td>14:01:52</td>\n",
       "      <td>0.20</td>\n",
       "      <td>0.0</td>\n",
       "      <td>未上传</td>\n",
       "    </tr>\n",
       "    <tr>\n",
       "      <th>44</th>\n",
       "      <td>6878</td>\n",
       "      <td>运营</td>\n",
       "      <td>234304</td>\n",
       "      <td>YR_MKZ_10</td>\n",
       "      <td>shenzhen</td>\n",
       "      <td>2022-08-01</td>\n",
       "      <td>13:47:35</td>\n",
       "      <td>13:49:42</td>\n",
       "      <td>0.04</td>\n",
       "      <td>0.0</td>\n",
       "      <td>未上传</td>\n",
       "    </tr>\n",
       "    <tr>\n",
       "      <th>45</th>\n",
       "      <td>6878</td>\n",
       "      <td>运营</td>\n",
       "      <td>234299</td>\n",
       "      <td>YR_MKZ_10</td>\n",
       "      <td>shenzhen</td>\n",
       "      <td>2022-08-01</td>\n",
       "      <td>13:43:36</td>\n",
       "      <td>13:47:21</td>\n",
       "      <td>0.06</td>\n",
       "      <td>0.0</td>\n",
       "      <td>未上传</td>\n",
       "    </tr>\n",
       "    <tr>\n",
       "      <th>46</th>\n",
       "      <td>6878</td>\n",
       "      <td>运营</td>\n",
       "      <td>234298</td>\n",
       "      <td>YR_MKZ_10</td>\n",
       "      <td>shenzhen</td>\n",
       "      <td>2022-08-01</td>\n",
       "      <td>13:42:17</td>\n",
       "      <td>13:43:23</td>\n",
       "      <td>0.02</td>\n",
       "      <td>0.0</td>\n",
       "      <td>未上传</td>\n",
       "    </tr>\n",
       "    <tr>\n",
       "      <th>47</th>\n",
       "      <td>6878</td>\n",
       "      <td>运营</td>\n",
       "      <td>234240</td>\n",
       "      <td>YR_MKZ_10</td>\n",
       "      <td>shenzhen</td>\n",
       "      <td>2022-08-01</td>\n",
       "      <td>09:24:20</td>\n",
       "      <td>12:00:49</td>\n",
       "      <td>2.61</td>\n",
       "      <td>14.0</td>\n",
       "      <td>未上传</td>\n",
       "    </tr>\n",
       "    <tr>\n",
       "      <th>48</th>\n",
       "      <td>6878</td>\n",
       "      <td>运营</td>\n",
       "      <td>234317</td>\n",
       "      <td>YR_MKZ_11</td>\n",
       "      <td>shenzhen</td>\n",
       "      <td>2022-08-01</td>\n",
       "      <td>13:59:45</td>\n",
       "      <td>17:02:26</td>\n",
       "      <td>3.04</td>\n",
       "      <td>47.0</td>\n",
       "      <td>未上传</td>\n",
       "    </tr>\n",
       "    <tr>\n",
       "      <th>49</th>\n",
       "      <td>6878</td>\n",
       "      <td>运营</td>\n",
       "      <td>234311</td>\n",
       "      <td>YR_MKZ_11</td>\n",
       "      <td>shenzhen</td>\n",
       "      <td>2022-08-01</td>\n",
       "      <td>13:54:46</td>\n",
       "      <td>13:59:31</td>\n",
       "      <td>0.08</td>\n",
       "      <td>1.0</td>\n",
       "      <td>未上传</td>\n",
       "    </tr>\n",
       "    <tr>\n",
       "      <th>50</th>\n",
       "      <td>6878</td>\n",
       "      <td>运营</td>\n",
       "      <td>234323</td>\n",
       "      <td>YR_MKZ_12</td>\n",
       "      <td>shenzhen</td>\n",
       "      <td>2022-08-01</td>\n",
       "      <td>14:11:28</td>\n",
       "      <td>17:02:27</td>\n",
       "      <td>2.85</td>\n",
       "      <td>28.0</td>\n",
       "      <td>未上传</td>\n",
       "    </tr>\n",
       "    <tr>\n",
       "      <th>51</th>\n",
       "      <td>6878</td>\n",
       "      <td>运营</td>\n",
       "      <td>234320</td>\n",
       "      <td>YR_MKZ_12</td>\n",
       "      <td>shenzhen</td>\n",
       "      <td>2022-08-01</td>\n",
       "      <td>14:02:16</td>\n",
       "      <td>14:03:24</td>\n",
       "      <td>0.02</td>\n",
       "      <td>0.0</td>\n",
       "      <td>未上传</td>\n",
       "    </tr>\n",
       "    <tr>\n",
       "      <th>52</th>\n",
       "      <td>6878</td>\n",
       "      <td>运营</td>\n",
       "      <td>234288</td>\n",
       "      <td>YR_MKZ_12</td>\n",
       "      <td>shenzhen</td>\n",
       "      <td>2022-08-01</td>\n",
       "      <td>11:21:21</td>\n",
       "      <td>11:22:35</td>\n",
       "      <td>0.02</td>\n",
       "      <td>0.0</td>\n",
       "      <td>未上传</td>\n",
       "    </tr>\n",
       "    <tr>\n",
       "      <th>53</th>\n",
       "      <td>6878</td>\n",
       "      <td>运营</td>\n",
       "      <td>234283</td>\n",
       "      <td>YR_MKZ_12</td>\n",
       "      <td>shenzhen</td>\n",
       "      <td>2022-08-01</td>\n",
       "      <td>11:03:03</td>\n",
       "      <td>11:17:55</td>\n",
       "      <td>0.25</td>\n",
       "      <td>0.0</td>\n",
       "      <td>未上传</td>\n",
       "    </tr>\n",
       "    <tr>\n",
       "      <th>54</th>\n",
       "      <td>6878</td>\n",
       "      <td>运营</td>\n",
       "      <td>234276</td>\n",
       "      <td>YR_MKZ_12</td>\n",
       "      <td>shenzhen</td>\n",
       "      <td>2022-08-01</td>\n",
       "      <td>10:50:43</td>\n",
       "      <td>11:00:19</td>\n",
       "      <td>0.16</td>\n",
       "      <td>0.0</td>\n",
       "      <td>未上传</td>\n",
       "    </tr>\n",
       "    <tr>\n",
       "      <th>55</th>\n",
       "      <td>6878</td>\n",
       "      <td>运营</td>\n",
       "      <td>234275</td>\n",
       "      <td>YR_MKZ_12</td>\n",
       "      <td>shenzhen</td>\n",
       "      <td>2022-08-01</td>\n",
       "      <td>10:43:43</td>\n",
       "      <td>10:46:46</td>\n",
       "      <td>0.05</td>\n",
       "      <td>0.0</td>\n",
       "      <td>未上传</td>\n",
       "    </tr>\n",
       "    <tr>\n",
       "      <th>56</th>\n",
       "      <td>6878</td>\n",
       "      <td>运营</td>\n",
       "      <td>234272</td>\n",
       "      <td>YR_MKZ_12</td>\n",
       "      <td>shenzhen</td>\n",
       "      <td>2022-08-01</td>\n",
       "      <td>10:41:20</td>\n",
       "      <td>10:41:44</td>\n",
       "      <td>0.01</td>\n",
       "      <td>0.0</td>\n",
       "      <td>未上传</td>\n",
       "    </tr>\n",
       "    <tr>\n",
       "      <th>57</th>\n",
       "      <td>6878</td>\n",
       "      <td>运营</td>\n",
       "      <td>234230</td>\n",
       "      <td>YR_MKZ_12</td>\n",
       "      <td>shenzhen</td>\n",
       "      <td>2022-08-01</td>\n",
       "      <td>08:37:22</td>\n",
       "      <td>10:40:12</td>\n",
       "      <td>2.05</td>\n",
       "      <td>0.0</td>\n",
       "      <td>未上传</td>\n",
       "    </tr>\n",
       "  </tbody>\n",
       "</table>"
      ],
      "text/plain": [
       "<IPython.core.display.HTML object>"
      ]
     },
     "metadata": {},
     "output_type": "display_data"
    }
   ],
   "source": [
    "display(HTML(ar.part_6a(date).to_html()))"
   ]
  },
  {
   "cell_type": "markdown",
   "metadata": {},
   "source": [
    "## 测试数据详情\n",
    "含测试建图培训"
   ]
  },
  {
   "cell_type": "code",
   "execution_count": 14,
   "metadata": {},
   "outputs": [
    {
     "data": {
      "text/html": [
       "<table border=\"1\" class=\"dataframe\">\n",
       "  <thead>\n",
       "    <tr style=\"text-align: right;\">\n",
       "      <th></th>\n",
       "      <th>Task_Id</th>\n",
       "      <th>Task_Type</th>\n",
       "      <th>Trip_ID</th>\n",
       "      <th>Car_ID</th>\n",
       "      <th>城市</th>\n",
       "      <th>日期</th>\n",
       "      <th>开始时刻</th>\n",
       "      <th>结束时刻</th>\n",
       "      <th>行程时间（H）</th>\n",
       "      <th>Trip里程（KM）</th>\n",
       "      <th>数据状态</th>\n",
       "    </tr>\n",
       "  </thead>\n",
       "  <tbody>\n",
       "    <tr>\n",
       "      <th>0</th>\n",
       "      <td>3197</td>\n",
       "      <td>全无人测试</td>\n",
       "      <td>18047</td>\n",
       "      <td>YR_ALX_1</td>\n",
       "      <td>shenzhen</td>\n",
       "      <td>2022-08-01</td>\n",
       "      <td>14:47:14</td>\n",
       "      <td>14:50:03</td>\n",
       "      <td>0.05</td>\n",
       "      <td>0.0</td>\n",
       "      <td>未上传</td>\n",
       "    </tr>\n",
       "    <tr>\n",
       "      <th>1</th>\n",
       "      <td>3197</td>\n",
       "      <td>全无人测试</td>\n",
       "      <td>18043</td>\n",
       "      <td>YR_ALX_1</td>\n",
       "      <td>shenzhen</td>\n",
       "      <td>2022-08-01</td>\n",
       "      <td>10:00:04</td>\n",
       "      <td>10:07:41</td>\n",
       "      <td>0.13</td>\n",
       "      <td>0.0</td>\n",
       "      <td>未上传</td>\n",
       "    </tr>\n",
       "    <tr>\n",
       "      <th>2</th>\n",
       "      <td>3197</td>\n",
       "      <td>全无人测试</td>\n",
       "      <td>18042</td>\n",
       "      <td>YR_ALX_1</td>\n",
       "      <td>shenzhen</td>\n",
       "      <td>2022-08-01</td>\n",
       "      <td>09:45:48</td>\n",
       "      <td>None</td>\n",
       "      <td>NaN</td>\n",
       "      <td>null</td>\n",
       "      <td>未上传</td>\n",
       "    </tr>\n",
       "    <tr>\n",
       "      <th>4</th>\n",
       "      <td>6928</td>\n",
       "      <td>项目测试</td>\n",
       "      <td>234290</td>\n",
       "      <td>YR_MKZ_6</td>\n",
       "      <td>chongqing</td>\n",
       "      <td>2022-08-01</td>\n",
       "      <td>11:54:33</td>\n",
       "      <td>12:40:26</td>\n",
       "      <td>0.76</td>\n",
       "      <td>10.0</td>\n",
       "      <td>未上传</td>\n",
       "    </tr>\n",
       "    <tr>\n",
       "      <th>5</th>\n",
       "      <td>6928</td>\n",
       "      <td>项目测试</td>\n",
       "      <td>234286</td>\n",
       "      <td>YR_MKZ_6</td>\n",
       "      <td>chongqing</td>\n",
       "      <td>2022-08-01</td>\n",
       "      <td>11:17:48</td>\n",
       "      <td>11:54:09</td>\n",
       "      <td>0.61</td>\n",
       "      <td>9.0</td>\n",
       "      <td>未上传</td>\n",
       "    </tr>\n",
       "    <tr>\n",
       "      <th>6</th>\n",
       "      <td>6928</td>\n",
       "      <td>项目测试</td>\n",
       "      <td>234285</td>\n",
       "      <td>YR_MKZ_6</td>\n",
       "      <td>chongqing</td>\n",
       "      <td>2022-08-01</td>\n",
       "      <td>11:10:54</td>\n",
       "      <td>11:17:18</td>\n",
       "      <td>0.11</td>\n",
       "      <td>2.0</td>\n",
       "      <td>未上传</td>\n",
       "    </tr>\n",
       "    <tr>\n",
       "      <th>7</th>\n",
       "      <td>6928</td>\n",
       "      <td>项目测试</td>\n",
       "      <td>234282</td>\n",
       "      <td>YR_MKZ_6</td>\n",
       "      <td>chongqing</td>\n",
       "      <td>2022-08-01</td>\n",
       "      <td>11:02:14</td>\n",
       "      <td>11:07:40</td>\n",
       "      <td>0.09</td>\n",
       "      <td>0.0</td>\n",
       "      <td>未上传</td>\n",
       "    </tr>\n",
       "    <tr>\n",
       "      <th>8</th>\n",
       "      <td>3253</td>\n",
       "      <td>测试</td>\n",
       "      <td>18058</td>\n",
       "      <td>YR_MKZ_6</td>\n",
       "      <td>shenzhen</td>\n",
       "      <td>2022-08-01</td>\n",
       "      <td>21:55:20</td>\n",
       "      <td>21:58:20</td>\n",
       "      <td>0.05</td>\n",
       "      <td>0.0</td>\n",
       "      <td>未上传</td>\n",
       "    </tr>\n",
       "    <tr>\n",
       "      <th>9</th>\n",
       "      <td>3253</td>\n",
       "      <td>测试</td>\n",
       "      <td>18057</td>\n",
       "      <td>YR_MKZ_6</td>\n",
       "      <td>shenzhen</td>\n",
       "      <td>2022-08-01</td>\n",
       "      <td>21:50:38</td>\n",
       "      <td>None</td>\n",
       "      <td>NaN</td>\n",
       "      <td>null</td>\n",
       "      <td>未上传</td>\n",
       "    </tr>\n",
       "    <tr>\n",
       "      <th>12</th>\n",
       "      <td>6940</td>\n",
       "      <td>项目测试</td>\n",
       "      <td>234350</td>\n",
       "      <td>YR_MKZ_8</td>\n",
       "      <td>shenzhen</td>\n",
       "      <td>2022-08-01</td>\n",
       "      <td>16:01:22</td>\n",
       "      <td>16:34:50</td>\n",
       "      <td>0.56</td>\n",
       "      <td>4.0</td>\n",
       "      <td>未上传</td>\n",
       "    </tr>\n",
       "    <tr>\n",
       "      <th>13</th>\n",
       "      <td>6935</td>\n",
       "      <td>项目测试</td>\n",
       "      <td>234325</td>\n",
       "      <td>YR_MKZ_8</td>\n",
       "      <td>shenzhen</td>\n",
       "      <td>2022-08-01</td>\n",
       "      <td>14:19:46</td>\n",
       "      <td>14:29:47</td>\n",
       "      <td>0.17</td>\n",
       "      <td>2.0</td>\n",
       "      <td>未上传</td>\n",
       "    </tr>\n",
       "    <tr>\n",
       "      <th>14</th>\n",
       "      <td>6924</td>\n",
       "      <td>项目测试</td>\n",
       "      <td>234264</td>\n",
       "      <td>YR_MAR_14</td>\n",
       "      <td>shenzhen</td>\n",
       "      <td>2022-08-01</td>\n",
       "      <td>10:28:38</td>\n",
       "      <td>14:36:17</td>\n",
       "      <td>4.13</td>\n",
       "      <td>0.0</td>\n",
       "      <td>未上传</td>\n",
       "    </tr>\n",
       "    <tr>\n",
       "      <th>15</th>\n",
       "      <td>3276</td>\n",
       "      <td>模块测试</td>\n",
       "      <td>18060</td>\n",
       "      <td>YR_MAR_14</td>\n",
       "      <td>shenzhen</td>\n",
       "      <td>2022-08-01</td>\n",
       "      <td>22:41:25</td>\n",
       "      <td>22:45:26</td>\n",
       "      <td>0.07</td>\n",
       "      <td>0.0</td>\n",
       "      <td>未上传</td>\n",
       "    </tr>\n",
       "    <tr>\n",
       "      <th>16</th>\n",
       "      <td>3276</td>\n",
       "      <td>模块测试</td>\n",
       "      <td>18059</td>\n",
       "      <td>YR_MAR_14</td>\n",
       "      <td>shenzhen</td>\n",
       "      <td>2022-08-01</td>\n",
       "      <td>22:36:55</td>\n",
       "      <td>22:37:29</td>\n",
       "      <td>0.01</td>\n",
       "      <td>0.0</td>\n",
       "      <td>未上传</td>\n",
       "    </tr>\n",
       "    <tr>\n",
       "      <th>17</th>\n",
       "      <td>6918</td>\n",
       "      <td>模块测试</td>\n",
       "      <td>234336</td>\n",
       "      <td>YR_MAR_24</td>\n",
       "      <td>shenzhen</td>\n",
       "      <td>2022-08-01</td>\n",
       "      <td>14:47:22</td>\n",
       "      <td>16:53:44</td>\n",
       "      <td>2.11</td>\n",
       "      <td>35.0</td>\n",
       "      <td>未上传</td>\n",
       "    </tr>\n",
       "    <tr>\n",
       "      <th>18</th>\n",
       "      <td>6918</td>\n",
       "      <td>模块测试</td>\n",
       "      <td>234335</td>\n",
       "      <td>YR_MAR_24</td>\n",
       "      <td>shenzhen</td>\n",
       "      <td>2022-08-01</td>\n",
       "      <td>14:44:56</td>\n",
       "      <td>14:47:02</td>\n",
       "      <td>0.04</td>\n",
       "      <td>0.0</td>\n",
       "      <td>未上传</td>\n",
       "    </tr>\n",
       "    <tr>\n",
       "      <th>19</th>\n",
       "      <td>6918</td>\n",
       "      <td>模块测试</td>\n",
       "      <td>234333</td>\n",
       "      <td>YR_MAR_24</td>\n",
       "      <td>shenzhen</td>\n",
       "      <td>2022-08-01</td>\n",
       "      <td>14:42:28</td>\n",
       "      <td>14:44:35</td>\n",
       "      <td>0.04</td>\n",
       "      <td>0.0</td>\n",
       "      <td>未上传</td>\n",
       "    </tr>\n",
       "    <tr>\n",
       "      <th>20</th>\n",
       "      <td>6918</td>\n",
       "      <td>模块测试</td>\n",
       "      <td>234318</td>\n",
       "      <td>YR_MAR_24</td>\n",
       "      <td>shenzhen</td>\n",
       "      <td>2022-08-01</td>\n",
       "      <td>14:01:03</td>\n",
       "      <td>14:01:11</td>\n",
       "      <td>0.00</td>\n",
       "      <td>0.0</td>\n",
       "      <td>未上传</td>\n",
       "    </tr>\n",
       "    <tr>\n",
       "      <th>21</th>\n",
       "      <td>6918</td>\n",
       "      <td>模块测试</td>\n",
       "      <td>234313</td>\n",
       "      <td>YR_MAR_24</td>\n",
       "      <td>shenzhen</td>\n",
       "      <td>2022-08-01</td>\n",
       "      <td>13:57:00</td>\n",
       "      <td>14:00:43</td>\n",
       "      <td>0.06</td>\n",
       "      <td>0.0</td>\n",
       "      <td>未上传</td>\n",
       "    </tr>\n",
       "    <tr>\n",
       "      <th>22</th>\n",
       "      <td>6917</td>\n",
       "      <td>模块测试</td>\n",
       "      <td>234274</td>\n",
       "      <td>YR_MAR_24</td>\n",
       "      <td>shenzhen</td>\n",
       "      <td>2022-08-01</td>\n",
       "      <td>10:42:41</td>\n",
       "      <td>11:54:39</td>\n",
       "      <td>1.20</td>\n",
       "      <td>0.0</td>\n",
       "      <td>未上传</td>\n",
       "    </tr>\n",
       "  </tbody>\n",
       "</table>"
      ],
      "text/plain": [
       "<IPython.core.display.HTML object>"
      ]
     },
     "metadata": {},
     "output_type": "display_data"
    }
   ],
   "source": [
    "display(HTML(ar.part_6b(date).to_html()))"
   ]
  },
  {
   "cell_type": "markdown",
   "id": "f2ff8c7b",
   "metadata": {},
   "source": [
    "## Demo数据详情"
   ]
  },
  {
   "cell_type": "code",
   "execution_count": 15,
   "id": "fbe74730",
   "metadata": {},
   "outputs": [
    {
     "data": {
      "text/html": [
       "<table border=\"1\" class=\"dataframe\">\n",
       "  <thead>\n",
       "    <tr style=\"text-align: right;\">\n",
       "      <th></th>\n",
       "      <th>Task_Id</th>\n",
       "      <th>Task_Type</th>\n",
       "      <th>Trip_ID</th>\n",
       "      <th>Car_ID</th>\n",
       "      <th>城市</th>\n",
       "      <th>日期</th>\n",
       "      <th>开始时刻</th>\n",
       "      <th>结束时刻</th>\n",
       "      <th>行程时间（H）</th>\n",
       "      <th>Trip里程（KM）</th>\n",
       "      <th>数据状态</th>\n",
       "    </tr>\n",
       "  </thead>\n",
       "  <tbody>\n",
       "  </tbody>\n",
       "</table>"
      ],
      "text/plain": [
       "<IPython.core.display.HTML object>"
      ]
     },
     "metadata": {},
     "output_type": "display_data"
    }
   ],
   "source": [
    "display(HTML(ar.part_6c(date).to_html()))"
   ]
  },
  {
   "cell_type": "markdown",
   "metadata": {},
   "source": [
    "## OB新增问题详情"
   ]
  },
  {
   "cell_type": "code",
   "execution_count": 16,
   "metadata": {},
   "outputs": [
    {
     "data": {
      "text/html": [
       "<table border=\"1\" class=\"dataframe\">\n",
       "  <thead>\n",
       "    <tr style=\"text-align: right;\">\n",
       "      <th></th>\n",
       "      <th>key</th>\n",
       "      <th>summary</th>\n",
       "      <th>assignee</th>\n",
       "      <th>status</th>\n",
       "      <th>created</th>\n",
       "      <th>components</th>\n",
       "      <th>labels</th>\n",
       "    </tr>\n",
       "  </thead>\n",
       "  <tbody>\n",
       "    <tr>\n",
       "      <th>0</th>\n",
       "      <td>OB-13899</td>\n",
       "      <td>对向车道有车，在直行车道变向对向车道</td>\n",
       "      <td>None</td>\n",
       "      <td>BACKLOG</td>\n",
       "      <td>2022-08-01 09:38:12</td>\n",
       "      <td></td>\n",
       "      <td></td>\n",
       "    </tr>\n",
       "    <tr>\n",
       "      <th>1</th>\n",
       "      <td>OB-13961</td>\n",
       "      <td>实际停车位置超出站点50米左右</td>\n",
       "      <td>None</td>\n",
       "      <td>BACKLOG</td>\n",
       "      <td>2022-08-01 16:47:32</td>\n",
       "      <td></td>\n",
       "      <td></td>\n",
       "    </tr>\n",
       "    <tr>\n",
       "      <th>2</th>\n",
       "      <td>OB-13900</td>\n",
       "      <td>右转时角度过大，撞向马路牙</td>\n",
       "      <td>None</td>\n",
       "      <td>BACKLOG</td>\n",
       "      <td>2022-08-01 09:38:18</td>\n",
       "      <td></td>\n",
       "      <td></td>\n",
       "    </tr>\n",
       "    <tr>\n",
       "      <th>3</th>\n",
       "      <td>OB-13898</td>\n",
       "      <td>右转时角度过小，撞向中间护栏</td>\n",
       "      <td>None</td>\n",
       "      <td>BACKLOG</td>\n",
       "      <td>2022-08-01 09:38:07</td>\n",
       "      <td></td>\n",
       "      <td></td>\n",
       "    </tr>\n",
       "    <tr>\n",
       "      <th>4</th>\n",
       "      <td>OB-13930</td>\n",
       "      <td>外置硬盘识别不到（坐牢）</td>\n",
       "      <td>植可燚</td>\n",
       "      <td>关闭</td>\n",
       "      <td>2022-08-01 13:55:24</td>\n",
       "      <td>坐牢</td>\n",
       "      <td></td>\n",
       "    </tr>\n",
       "    <tr>\n",
       "      <th>5</th>\n",
       "      <td>OB-13928</td>\n",
       "      <td>主驾驶后面平板不能同屏(坐牢)</td>\n",
       "      <td>植可燚</td>\n",
       "      <td>关闭</td>\n",
       "      <td>2022-08-01 13:51:21</td>\n",
       "      <td>坐牢</td>\n",
       "      <td></td>\n",
       "    </tr>\n",
       "    <tr>\n",
       "      <th>6</th>\n",
       "      <td>OB-13893</td>\n",
       "      <td>启动程序失败，没有内网，延时上线(坐牢)</td>\n",
       "      <td>林易莹</td>\n",
       "      <td>处理中</td>\n",
       "      <td>2022-08-01 09:16:31</td>\n",
       "      <td>坐牢</td>\n",
       "      <td></td>\n",
       "    </tr>\n",
       "    <tr>\n",
       "      <th>7</th>\n",
       "      <td>OB-13887</td>\n",
       "      <td>无法正常启动程序   坐牢</td>\n",
       "      <td>林易莹</td>\n",
       "      <td>BACKLOG</td>\n",
       "      <td>2022-08-01 08:24:42</td>\n",
       "      <td>坐牢</td>\n",
       "      <td></td>\n",
       "    </tr>\n",
       "    <tr>\n",
       "      <th>8</th>\n",
       "      <td>OB-13929</td>\n",
       "      <td>无法启动程序</td>\n",
       "      <td>罗志超</td>\n",
       "      <td>关闭</td>\n",
       "      <td>2022-08-01 13:52:55</td>\n",
       "      <td>坐牢, 运营效率问题</td>\n",
       "      <td></td>\n",
       "    </tr>\n",
       "    <tr>\n",
       "      <th>9</th>\n",
       "      <td>OB-13897</td>\n",
       "      <td>坐牢</td>\n",
       "      <td>陈新</td>\n",
       "      <td>BACKLOG</td>\n",
       "      <td>2022-08-01 09:36:46</td>\n",
       "      <td>坐牢</td>\n",
       "      <td></td>\n",
       "    </tr>\n",
       "    <tr>\n",
       "      <th>10</th>\n",
       "      <td>OB-13894</td>\n",
       "      <td>MAR24没有网络，登录sentry失败，坐牢</td>\n",
       "      <td>林佳锋</td>\n",
       "      <td>关闭</td>\n",
       "      <td>2022-08-01 09:19:49</td>\n",
       "      <td>坐牢, 硬件问题</td>\n",
       "      <td>后备箱设备问题</td>\n",
       "    </tr>\n",
       "    <tr>\n",
       "      <th>11</th>\n",
       "      <td>OB-13932</td>\n",
       "      <td>硬盘路径储存不了（坐牢）</td>\n",
       "      <td>罗志超</td>\n",
       "      <td>关闭</td>\n",
       "      <td>2022-08-01 14:06:21</td>\n",
       "      <td>坐牢, 硬件问题</td>\n",
       "      <td>工艺问题</td>\n",
       "    </tr>\n",
       "    <tr>\n",
       "      <th>12</th>\n",
       "      <td>OB-13895</td>\n",
       "      <td>推流相机故障，坐牢</td>\n",
       "      <td>林佳锋</td>\n",
       "      <td>关闭</td>\n",
       "      <td>2022-08-01 09:22:56</td>\n",
       "      <td>坐牢, 硬件问题</td>\n",
       "      <td>车内外设问题</td>\n",
       "    </tr>\n",
       "    <tr>\n",
       "      <th>13</th>\n",
       "      <td>OB-13927</td>\n",
       "      <td>外置硬盘掉落</td>\n",
       "      <td>罗志超</td>\n",
       "      <td>关闭</td>\n",
       "      <td>2022-08-01 11:45:07</td>\n",
       "      <td>硬件问题</td>\n",
       "      <td>工艺问题</td>\n",
       "    </tr>\n",
       "    <tr>\n",
       "      <th>14</th>\n",
       "      <td>OB-13931</td>\n",
       "      <td>因没地图，重启程序</td>\n",
       "      <td>None</td>\n",
       "      <td>BACKLOG</td>\n",
       "      <td>2022-08-01 14:01:22</td>\n",
       "      <td></td>\n",
       "      <td></td>\n",
       "    </tr>\n",
       "    <tr>\n",
       "      <th>15</th>\n",
       "      <td>OB-13926</td>\n",
       "      <td>福强路西往东新洲路交汇口红灯，车身出实道路际停止线一半停车 ，pad上显示的是没有出停止线</td>\n",
       "      <td>None</td>\n",
       "      <td>BACKLOG</td>\n",
       "      <td>2022-08-01 11:36:15</td>\n",
       "      <td></td>\n",
       "      <td></td>\n",
       "    </tr>\n",
       "    <tr>\n",
       "      <th>16</th>\n",
       "      <td>OB-13915</td>\n",
       "      <td>硬盘掉落，重启程序</td>\n",
       "      <td>None</td>\n",
       "      <td>BACKLOG</td>\n",
       "      <td>2022-08-01 10:52:40</td>\n",
       "      <td></td>\n",
       "      <td></td>\n",
       "    </tr>\n",
       "    <tr>\n",
       "      <th>17</th>\n",
       "      <td>OB-13890</td>\n",
       "      <td>车辆无网络，未能按时上线</td>\n",
       "      <td>林佳锋</td>\n",
       "      <td>关闭</td>\n",
       "      <td>2022-08-01 09:02:03</td>\n",
       "      <td>硬件问题</td>\n",
       "      <td>工艺问题</td>\n",
       "    </tr>\n",
       "    <tr>\n",
       "      <th>18</th>\n",
       "      <td>OB-13914</td>\n",
       "      <td>打不了tag</td>\n",
       "      <td>None</td>\n",
       "      <td>BACKLOG</td>\n",
       "      <td>2022-08-01 10:40:08</td>\n",
       "      <td></td>\n",
       "      <td></td>\n",
       "    </tr>\n",
       "    <tr>\n",
       "      <th>19</th>\n",
       "      <td>OB-13905</td>\n",
       "      <td>工程师处理车辆问题，重启程序（坐牢）</td>\n",
       "      <td>None</td>\n",
       "      <td>BACKLOG</td>\n",
       "      <td>2022-08-01 10:05:17</td>\n",
       "      <td></td>\n",
       "      <td></td>\n",
       "    </tr>\n",
       "    <tr>\n",
       "      <th>20</th>\n",
       "      <td>OB-13901</td>\n",
       "      <td>运营数据异常，有active文件</td>\n",
       "      <td>吴优</td>\n",
       "      <td>BACKLOG</td>\n",
       "      <td>2022-08-01 09:39:33</td>\n",
       "      <td></td>\n",
       "      <td></td>\n",
       "    </tr>\n",
       "    <tr>\n",
       "      <th>21</th>\n",
       "      <td>OB-13896</td>\n",
       "      <td>变道猛打方向，有点晃动</td>\n",
       "      <td>None</td>\n",
       "      <td>BACKLOG</td>\n",
       "      <td>2022-08-01 09:35:22</td>\n",
       "      <td></td>\n",
       "      <td></td>\n",
       "    </tr>\n",
       "    <tr>\n",
       "      <th>22</th>\n",
       "      <td>OB-13892</td>\n",
       "      <td>延迟上线</td>\n",
       "      <td>None</td>\n",
       "      <td>BACKLOG</td>\n",
       "      <td>2022-08-01 09:10:13</td>\n",
       "      <td></td>\n",
       "      <td></td>\n",
       "    </tr>\n",
       "    <tr>\n",
       "      <th>23</th>\n",
       "      <td>OB-13889</td>\n",
       "      <td>启动程序失败，没有内网，延时上线</td>\n",
       "      <td>None</td>\n",
       "      <td>BACKLOG</td>\n",
       "      <td>2022-08-01 09:01:30</td>\n",
       "      <td></td>\n",
       "      <td></td>\n",
       "    </tr>\n",
       "  </tbody>\n",
       "</table>"
      ],
      "text/plain": [
       "<IPython.core.display.HTML object>"
      ]
     },
     "metadata": {},
     "output_type": "display_data"
    }
   ],
   "source": [
    "try:\n",
    "    display(HTML(ar.part_6d().to_html()))\n",
    "except:\n",
    "    print('今天无新增OB')\n"
   ]
  }
 ],
 "metadata": {
  "interpreter": {
   "hash": "7b004cb377420e648f6d53743a6d6f5ef9f7ce4da96d13ce7165192009dcb12d"
  },
  "kernelspec": {
   "display_name": "Python 3.9.4 64-bit ('rait_env': conda)",
   "language": "python",
   "name": "python3"
  },
  "language_info": {
   "codemirror_mode": {
    "name": "ipython",
    "version": 3
   },
   "file_extension": ".py",
   "mimetype": "text/x-python",
   "name": "python",
   "nbconvert_exporter": "python",
   "pygments_lexer": "ipython3",
   "version": "3.9.7"
  },
  "metadata": {
   "interpreter": {
    "hash": "ba0ebd166baa0ba4d49b5795e4adc33f348497d8007c0ea509cebace52b8b715"
   }
  }
 },
 "nbformat": 4,
 "nbformat_minor": 5
}
